{
  "nbformat": 4,
  "nbformat_minor": 0,
  "metadata": {
    "colab": {
      "name": "neural_network_practice_Hackernews.ipynb",
      "provenance": [],
      "collapsed_sections": []
    },
    "kernelspec": {
      "name": "python3",
      "display_name": "Python 3"
    }
  },
  "cells": [
    {
      "cell_type": "code",
      "metadata": {
        "id": "tTsVPOknGRPm",
        "colab": {
          "base_uri": "https://localhost:8080/"
        },
        "outputId": "45e525bf-e005-4187-8074-920378b1f3e9"
      },
      "source": [
        "!pip install twython"
      ],
      "execution_count": 1,
      "outputs": [
        {
          "output_type": "stream",
          "text": [
            "Collecting twython\n",
            "  Downloading https://files.pythonhosted.org/packages/24/80/579b96dfaa9b536efde883d4f0df7ea2598a6f3117a6dd572787f4a2bcfb/twython-3.8.2-py3-none-any.whl\n",
            "Requirement already satisfied: requests>=2.1.0 in /usr/local/lib/python3.6/dist-packages (from twython) (2.23.0)\n",
            "Requirement already satisfied: requests-oauthlib>=0.4.0 in /usr/local/lib/python3.6/dist-packages (from twython) (1.3.0)\n",
            "Requirement already satisfied: urllib3!=1.25.0,!=1.25.1,<1.26,>=1.21.1 in /usr/local/lib/python3.6/dist-packages (from requests>=2.1.0->twython) (1.24.3)\n",
            "Requirement already satisfied: idna<3,>=2.5 in /usr/local/lib/python3.6/dist-packages (from requests>=2.1.0->twython) (2.10)\n",
            "Requirement already satisfied: certifi>=2017.4.17 in /usr/local/lib/python3.6/dist-packages (from requests>=2.1.0->twython) (2020.12.5)\n",
            "Requirement already satisfied: chardet<4,>=3.0.2 in /usr/local/lib/python3.6/dist-packages (from requests>=2.1.0->twython) (3.0.4)\n",
            "Requirement already satisfied: oauthlib>=3.0.0 in /usr/local/lib/python3.6/dist-packages (from requests-oauthlib>=0.4.0->twython) (3.1.0)\n",
            "Installing collected packages: twython\n",
            "Successfully installed twython-3.8.2\n"
          ],
          "name": "stdout"
        }
      ]
    },
    {
      "cell_type": "code",
      "metadata": {
        "id": "qgHt-DJRy8nY"
      },
      "source": [
        "import numpy as np\n",
        "from sklearn.naive_bayes import MultinomialNB\n",
        "from sklearn.feature_extraction.text import CountVectorizer\n",
        "import pandas as pd\n",
        "from collections import Counter\n",
        "from sklearn.model_selection import train_test_split\n",
        "from sklearn.feature_extraction.text import TfidfTransformer\n",
        "from nltk.sentiment.vader import SentimentIntensityAnalyzer\n",
        "import nltk\n",
        "import twython"
      ],
      "execution_count": 2,
      "outputs": []
    },
    {
      "cell_type": "code",
      "metadata": {
        "id": "8e9aH1GfGCRE",
        "colab": {
          "base_uri": "https://localhost:8080/"
        },
        "outputId": "201ead6b-0409-4649-aaaf-9c9be17cfd57"
      },
      "source": [
        "nltk.download('vader_lexicon')"
      ],
      "execution_count": 3,
      "outputs": [
        {
          "output_type": "stream",
          "text": [
            "[nltk_data] Downloading package vader_lexicon to /root/nltk_data...\n"
          ],
          "name": "stdout"
        },
        {
          "output_type": "execute_result",
          "data": {
            "text/plain": [
              "True"
            ]
          },
          "metadata": {
            "tags": []
          },
          "execution_count": 3
        }
      ]
    },
    {
      "cell_type": "code",
      "metadata": {
        "id": "EODFNPyqzj95",
        "colab": {
          "base_uri": "https://localhost:8080/"
        },
        "outputId": "4992cf92-7428-4baa-c88c-4c5b4383445f"
      },
      "source": [
        "%ls"
      ],
      "execution_count": 4,
      "outputs": [
        {
          "output_type": "stream",
          "text": [
            "\u001b[0m\u001b[01;34msample_data\u001b[0m/\n"
          ],
          "name": "stdout"
        }
      ]
    },
    {
      "cell_type": "code",
      "metadata": {
        "id": "W-B3EhpKyTnP"
      },
      "source": [
        "#Using the Hackernews dataset\n",
        "\n",
        "df = pd.read_csv('/content/Final_Salty.csv')"
      ],
      "execution_count": 7,
      "outputs": []
    },
    {
      "cell_type": "code",
      "metadata": {
        "id": "B7n9lPS6zugP",
        "colab": {
          "base_uri": "https://localhost:8080/",
          "height": 374
        },
        "outputId": "afe8a782-27b6-4562-d72f-d8272a88f12d"
      },
      "source": [
        "#SaltyScore created using Vader, highest salt on top\n",
        "\n",
        "df.head()"
      ],
      "execution_count": 8,
      "outputs": [
        {
          "output_type": "execute_result",
          "data": {
            "text/html": [
              "<div>\n",
              "<style scoped>\n",
              "    .dataframe tbody tr th:only-of-type {\n",
              "        vertical-align: middle;\n",
              "    }\n",
              "\n",
              "    .dataframe tbody tr th {\n",
              "        vertical-align: top;\n",
              "    }\n",
              "\n",
              "    .dataframe thead th {\n",
              "        text-align: right;\n",
              "    }\n",
              "</style>\n",
              "<table border=\"1\" class=\"dataframe\">\n",
              "  <thead>\n",
              "    <tr style=\"text-align: right;\">\n",
              "      <th></th>\n",
              "      <th>Unnamed: 0</th>\n",
              "      <th>Comment_ID</th>\n",
              "      <th>Comment</th>\n",
              "      <th>UserName</th>\n",
              "      <th>StoryId</th>\n",
              "      <th>Deleted</th>\n",
              "      <th>SaltyScore</th>\n",
              "    </tr>\n",
              "  </thead>\n",
              "  <tbody>\n",
              "    <tr>\n",
              "      <th>0</th>\n",
              "      <td>1118</td>\n",
              "      <td>23334754</td>\n",
              "      <td>Fuck em</td>\n",
              "      <td>rStar</td>\n",
              "      <td>23331287</td>\n",
              "      <td>False</td>\n",
              "      <td>0.778</td>\n",
              "    </tr>\n",
              "    <tr>\n",
              "      <th>1</th>\n",
              "      <td>120</td>\n",
              "      <td>23338465</td>\n",
              "      <td>Not great, not terrible</td>\n",
              "      <td>laretluval</td>\n",
              "      <td>23334339</td>\n",
              "      <td>False</td>\n",
              "      <td>0.731</td>\n",
              "    </tr>\n",
              "    <tr>\n",
              "      <th>2</th>\n",
              "      <td>1353</td>\n",
              "      <td>23320362</td>\n",
              "      <td>Risk aversion and capital?</td>\n",
              "      <td>eximius</td>\n",
              "      <td>23319848</td>\n",
              "      <td>False</td>\n",
              "      <td>0.714</td>\n",
              "    </tr>\n",
              "    <tr>\n",
              "      <th>3</th>\n",
              "      <td>1265</td>\n",
              "      <td>23335878</td>\n",
              "      <td>AMP is a terrifying solution to an awful problem.</td>\n",
              "      <td>tobyhinloopen</td>\n",
              "      <td>23322730</td>\n",
              "      <td>False</td>\n",
              "      <td>0.599</td>\n",
              "    </tr>\n",
              "    <tr>\n",
              "      <th>4</th>\n",
              "      <td>2595</td>\n",
              "      <td>23329336</td>\n",
              "      <td>launch aborted :(</td>\n",
              "      <td>tosh</td>\n",
              "      <td>23322948</td>\n",
              "      <td>False</td>\n",
              "      <td>0.592</td>\n",
              "    </tr>\n",
              "  </tbody>\n",
              "</table>\n",
              "</div>"
            ],
            "text/plain": [
              "   Unnamed: 0  Comment_ID  ... Deleted SaltyScore\n",
              "0        1118    23334754  ...   False      0.778\n",
              "1         120    23338465  ...   False      0.731\n",
              "2        1353    23320362  ...   False      0.714\n",
              "3        1265    23335878  ...   False      0.599\n",
              "4        2595    23329336  ...   False      0.592\n",
              "\n",
              "[5 rows x 7 columns]"
            ]
          },
          "metadata": {
            "tags": []
          },
          "execution_count": 8
        }
      ]
    },
    {
      "cell_type": "code",
      "metadata": {
        "id": "ArkRwNAxEg71"
      },
      "source": [
        "#Use vader to create a column for classification\n",
        "\n",
        "def analyze_sentiment_vader_lexicon(review, threshold=0.1,\n",
        "                                    verbose=False):\n",
        "  # analyze the sentiment for review\n",
        "  analyzer = SentimentIntensityAnalyzer()\n",
        "  scores = analyzer.polarity_scores(review)\n",
        "  # get aggregate scores and final sentiment\n",
        "  agg_score = scores['compound']\n",
        "  if agg_score >= threshold:\n",
        "    final_sentiment = 'positive'\n",
        "  elif agg_score <= -threshold:\n",
        "    final_sentiment = 'negative'\n",
        "  else:\n",
        "    final_sentiment = 'neutral'\n",
        "\n",
        "  if verbose:\n",
        "    # display detailed sentiment statistics\n",
        "    positive = str(round(scores['pos'], 2)*100)+'%'\n",
        "    final = round(agg_score, 2)\n",
        "    negative = str(round(scores['neg'], 2)*100)+'%'\n",
        "    neutral = str(round(scores['neu'], 2)*100)+'%'\n",
        "    sentiment_frame = pd.DataFrame([[final_sentiment, final, positive,\n",
        "                                      negative, neutral]], columns=pd.MultiIndex(levels=[['SENTIMENT STATS:'],['Predicted Sentiment', 'Polarity Score','Positive', 'Negative', 'Neutral']],codes=[[0,0,0,0,0],[0,1,2,3,4]]))\n",
        "    print(sentiment_frame)\n",
        "  return final_sentiment"
      ],
      "execution_count": 9,
      "outputs": []
    },
    {
      "cell_type": "code",
      "metadata": {
        "id": "Q7Cg4GeqFJs_"
      },
      "source": [
        "df['sentiment'] = df['Comment'].apply(analyze_sentiment_vader_lexicon)"
      ],
      "execution_count": 10,
      "outputs": []
    },
    {
      "cell_type": "code",
      "metadata": {
        "id": "bPlNIidpIn-o",
        "colab": {
          "base_uri": "https://localhost:8080/",
          "height": 204
        },
        "outputId": "aa57a227-f489-4f33-e97a-018a85fda1ee"
      },
      "source": [
        "df.head()"
      ],
      "execution_count": 11,
      "outputs": [
        {
          "output_type": "execute_result",
          "data": {
            "text/html": [
              "<div>\n",
              "<style scoped>\n",
              "    .dataframe tbody tr th:only-of-type {\n",
              "        vertical-align: middle;\n",
              "    }\n",
              "\n",
              "    .dataframe tbody tr th {\n",
              "        vertical-align: top;\n",
              "    }\n",
              "\n",
              "    .dataframe thead th {\n",
              "        text-align: right;\n",
              "    }\n",
              "</style>\n",
              "<table border=\"1\" class=\"dataframe\">\n",
              "  <thead>\n",
              "    <tr style=\"text-align: right;\">\n",
              "      <th></th>\n",
              "      <th>Unnamed: 0</th>\n",
              "      <th>Comment_ID</th>\n",
              "      <th>Comment</th>\n",
              "      <th>UserName</th>\n",
              "      <th>StoryId</th>\n",
              "      <th>Deleted</th>\n",
              "      <th>SaltyScore</th>\n",
              "      <th>sentiment</th>\n",
              "    </tr>\n",
              "  </thead>\n",
              "  <tbody>\n",
              "    <tr>\n",
              "      <th>0</th>\n",
              "      <td>1118</td>\n",
              "      <td>23334754</td>\n",
              "      <td>Fuck em</td>\n",
              "      <td>rStar</td>\n",
              "      <td>23331287</td>\n",
              "      <td>False</td>\n",
              "      <td>0.778</td>\n",
              "      <td>negative</td>\n",
              "    </tr>\n",
              "    <tr>\n",
              "      <th>1</th>\n",
              "      <td>120</td>\n",
              "      <td>23338465</td>\n",
              "      <td>Not great, not terrible</td>\n",
              "      <td>laretluval</td>\n",
              "      <td>23334339</td>\n",
              "      <td>False</td>\n",
              "      <td>0.731</td>\n",
              "      <td>negative</td>\n",
              "    </tr>\n",
              "    <tr>\n",
              "      <th>2</th>\n",
              "      <td>1353</td>\n",
              "      <td>23320362</td>\n",
              "      <td>Risk aversion and capital?</td>\n",
              "      <td>eximius</td>\n",
              "      <td>23319848</td>\n",
              "      <td>False</td>\n",
              "      <td>0.714</td>\n",
              "      <td>negative</td>\n",
              "    </tr>\n",
              "    <tr>\n",
              "      <th>3</th>\n",
              "      <td>1265</td>\n",
              "      <td>23335878</td>\n",
              "      <td>AMP is a terrifying solution to an awful problem.</td>\n",
              "      <td>tobyhinloopen</td>\n",
              "      <td>23322730</td>\n",
              "      <td>False</td>\n",
              "      <td>0.599</td>\n",
              "      <td>negative</td>\n",
              "    </tr>\n",
              "    <tr>\n",
              "      <th>4</th>\n",
              "      <td>2595</td>\n",
              "      <td>23329336</td>\n",
              "      <td>launch aborted :(</td>\n",
              "      <td>tosh</td>\n",
              "      <td>23322948</td>\n",
              "      <td>False</td>\n",
              "      <td>0.592</td>\n",
              "      <td>negative</td>\n",
              "    </tr>\n",
              "  </tbody>\n",
              "</table>\n",
              "</div>"
            ],
            "text/plain": [
              "   Unnamed: 0  Comment_ID  ... SaltyScore sentiment\n",
              "0        1118    23334754  ...      0.778  negative\n",
              "1         120    23338465  ...      0.731  negative\n",
              "2        1353    23320362  ...      0.714  negative\n",
              "3        1265    23335878  ...      0.599  negative\n",
              "4        2595    23329336  ...      0.592  negative\n",
              "\n",
              "[5 rows x 8 columns]"
            ]
          },
          "metadata": {
            "tags": []
          },
          "execution_count": 11
        }
      ]
    },
    {
      "cell_type": "code",
      "metadata": {
        "id": "zj0fgwd7HxJp",
        "colab": {
          "base_uri": "https://localhost:8080/"
        },
        "outputId": "6f7812c0-25c8-4cea-86a8-42f25e907630"
      },
      "source": [
        "#may need to adjust threshold\n",
        "\n",
        "df['sentiment'].value_counts()"
      ],
      "execution_count": 12,
      "outputs": [
        {
          "output_type": "execute_result",
          "data": {
            "text/plain": [
              "positive    1765\n",
              "negative     729\n",
              "neutral      568\n",
              "Name: sentiment, dtype: int64"
            ]
          },
          "metadata": {
            "tags": []
          },
          "execution_count": 12
        }
      ]
    },
    {
      "cell_type": "code",
      "metadata": {
        "id": "Ylp0PPel3aR_"
      },
      "source": [
        "counter = Counter(df['sentiment'].tolist())\n",
        "sent_rank = {i[0]: idx for idx, i in enumerate(counter.most_common(3))}\n",
        "df = df[df['sentiment'].map(lambda x: x in sent_rank)]"
      ],
      "execution_count": 13,
      "outputs": []
    },
    {
      "cell_type": "code",
      "metadata": {
        "id": "02upEuqlRlxp",
        "colab": {
          "base_uri": "https://localhost:8080/"
        },
        "outputId": "d43d2224-de0c-41f5-a041-00760808bb9d"
      },
      "source": [
        "sent_rank"
      ],
      "execution_count": 14,
      "outputs": [
        {
          "output_type": "execute_result",
          "data": {
            "text/plain": [
              "{'negative': 1, 'neutral': 2, 'positive': 0}"
            ]
          },
          "metadata": {
            "tags": []
          },
          "execution_count": 14
        }
      ]
    },
    {
      "cell_type": "code",
      "metadata": {
        "id": "fiG9MFFe5rKW"
      },
      "source": [
        "comment_list = df['Comment'].tolist()\n",
        "sent_list = [sent_rank[i] for i in df['sentiment'].tolist()]\n",
        "sent_list = np.array(sent_list)"
      ],
      "execution_count": 15,
      "outputs": []
    },
    {
      "cell_type": "code",
      "metadata": {
        "id": "AuqJsuChRaGS",
        "colab": {
          "base_uri": "https://localhost:8080/"
        },
        "outputId": "34fb9f31-c96b-410b-877c-cb2bc58d388d"
      },
      "source": [
        "sent_list"
      ],
      "execution_count": 16,
      "outputs": [
        {
          "output_type": "execute_result",
          "data": {
            "text/plain": [
              "array([1, 1, 1, ..., 0, 0, 0])"
            ]
          },
          "metadata": {
            "tags": []
          },
          "execution_count": 16
        }
      ]
    },
    {
      "cell_type": "code",
      "metadata": {
        "id": "Bvv94HSM6i8I"
      },
      "source": [
        "count_vect = CountVectorizer()\n",
        "x_train_counts = count_vect.fit_transform(comment_list)"
      ],
      "execution_count": 17,
      "outputs": []
    },
    {
      "cell_type": "code",
      "metadata": {
        "id": "dD5bS7RHN7w8",
        "colab": {
          "base_uri": "https://localhost:8080/"
        },
        "outputId": "6c6f8f03-ee08-4349-85a3-6daeb5be63df"
      },
      "source": [
        "x_train_counts.shape"
      ],
      "execution_count": 18,
      "outputs": [
        {
          "output_type": "execute_result",
          "data": {
            "text/plain": [
              "(3062, 15376)"
            ]
          },
          "metadata": {
            "tags": []
          },
          "execution_count": 18
        }
      ]
    },
    {
      "cell_type": "code",
      "metadata": {
        "id": "9Gu9Ew9R67Ss"
      },
      "source": [
        "tfidf_transformer = TfidfTransformer()\n",
        "x_train_tfidf = tfidf_transformer.fit_transform(x_train_counts)"
      ],
      "execution_count": 19,
      "outputs": []
    },
    {
      "cell_type": "code",
      "metadata": {
        "id": "jAuxS0J1QWu5",
        "colab": {
          "base_uri": "https://localhost:8080/"
        },
        "outputId": "6f79f1f4-cb5a-446d-fcd8-ccfbcc5d189b"
      },
      "source": [
        "x_train_tfidf.shape"
      ],
      "execution_count": 20,
      "outputs": [
        {
          "output_type": "execute_result",
          "data": {
            "text/plain": [
              "(3062, 15376)"
            ]
          },
          "metadata": {
            "tags": []
          },
          "execution_count": 20
        }
      ]
    },
    {
      "cell_type": "code",
      "metadata": {
        "id": "tJhI7S-OOBqC",
        "colab": {
          "base_uri": "https://localhost:8080/"
        },
        "outputId": "7ad767f7-1d3b-4d5f-a53d-27f0f8868024"
      },
      "source": [
        "x_train_tfidf.shape"
      ],
      "execution_count": 21,
      "outputs": [
        {
          "output_type": "execute_result",
          "data": {
            "text/plain": [
              "(3062, 15376)"
            ]
          },
          "metadata": {
            "tags": []
          },
          "execution_count": 21
        }
      ]
    },
    {
      "cell_type": "code",
      "metadata": {
        "id": "7khNzeDlK3E4",
        "colab": {
          "base_uri": "https://localhost:8080/"
        },
        "outputId": "f000ad9e-83e5-4454-e0f2-b546fc71286c"
      },
      "source": [
        "sent_list.shape, x_train_tfidf.shape"
      ],
      "execution_count": 22,
      "outputs": [
        {
          "output_type": "execute_result",
          "data": {
            "text/plain": [
              "((3062,), (3062, 15376))"
            ]
          },
          "metadata": {
            "tags": []
          },
          "execution_count": 22
        }
      ]
    },
    {
      "cell_type": "code",
      "metadata": {
        "id": "p1CvgRoOLVpD"
      },
      "source": [
        "#x_train_tfidf = x_train_tfidf.reshape(x_train_tfidf.shape[1:])"
      ],
      "execution_count": 23,
      "outputs": []
    },
    {
      "cell_type": "code",
      "metadata": {
        "id": "cobGQAPS7Hik"
      },
      "source": [
        "X_train, X_test, y_train, y_test = train_test_split(x_train_tfidf, sent_list, test_size=0.3, random_state=0)"
      ],
      "execution_count": 24,
      "outputs": []
    },
    {
      "cell_type": "code",
      "metadata": {
        "id": "ZexPldVFJGXD",
        "colab": {
          "base_uri": "https://localhost:8080/"
        },
        "outputId": "0638ce66-46b6-4643-9a50-0af7d5124b93"
      },
      "source": [
        "df.shape"
      ],
      "execution_count": 25,
      "outputs": [
        {
          "output_type": "execute_result",
          "data": {
            "text/plain": [
              "(3062, 8)"
            ]
          },
          "metadata": {
            "tags": []
          },
          "execution_count": 25
        }
      ]
    },
    {
      "cell_type": "code",
      "metadata": {
        "id": "VeRVCsl57jmC"
      },
      "source": [
        "clf = MultinomialNB().fit(X_train, y_train)"
      ],
      "execution_count": 26,
      "outputs": []
    },
    {
      "cell_type": "code",
      "metadata": {
        "id": "qJw1l8bL7wRi"
      },
      "source": [
        "y_score = clf.predict(X_test)"
      ],
      "execution_count": 27,
      "outputs": []
    },
    {
      "cell_type": "code",
      "metadata": {
        "id": "PJ3mGW8b72lC"
      },
      "source": [
        "n_right = 0\n",
        "for i in range(len(y_score)):\n",
        "  if y_score[i] == y_test[i]:\n",
        "    n_right += 1"
      ],
      "execution_count": 28,
      "outputs": []
    },
    {
      "cell_type": "code",
      "metadata": {
        "id": "eDh0ICx48I2y"
      },
      "source": [
        "#Threshold .1 is the best accuracy so far.\n",
        "#Classes are imbalanced\n",
        "\n",
        "#print(\"Accuracy: %.2f%%\" % ((n_right/float(len(y_test)) * 100)))"
      ],
      "execution_count": 29,
      "outputs": []
    },
    {
      "cell_type": "code",
      "metadata": {
        "id": "nXPV9St-ccL0"
      },
      "source": [
        "df_neg = df[df['sentiment']=='negative'].sample(500)\n"
      ],
      "execution_count": 30,
      "outputs": []
    },
    {
      "cell_type": "code",
      "metadata": {
        "id": "KcETm_8udIG0"
      },
      "source": [
        "df_pos = df[df['sentiment']=='positive'].sample(500)"
      ],
      "execution_count": 31,
      "outputs": []
    },
    {
      "cell_type": "code",
      "metadata": {
        "id": "EhdXhDNLddDm"
      },
      "source": [
        "df_neu = df[df['sentiment']=='neutral'].sample(500)"
      ],
      "execution_count": 32,
      "outputs": []
    },
    {
      "cell_type": "code",
      "metadata": {
        "id": "DIO5sLEId1SM"
      },
      "source": [
        "frames = [df_pos, df_neg, df_neu]\n",
        "\n",
        "df_samp = pd.concat(frames)"
      ],
      "execution_count": 33,
      "outputs": []
    },
    {
      "cell_type": "code",
      "metadata": {
        "id": "fCbT1R6EeVqN",
        "colab": {
          "base_uri": "https://localhost:8080/",
          "height": 419
        },
        "outputId": "b6e529ed-38a8-46bc-d1d1-6ff8e728ac06"
      },
      "source": [
        "#balanced classes\n",
        "df_samp"
      ],
      "execution_count": 34,
      "outputs": [
        {
          "output_type": "execute_result",
          "data": {
            "text/html": [
              "<div>\n",
              "<style scoped>\n",
              "    .dataframe tbody tr th:only-of-type {\n",
              "        vertical-align: middle;\n",
              "    }\n",
              "\n",
              "    .dataframe tbody tr th {\n",
              "        vertical-align: top;\n",
              "    }\n",
              "\n",
              "    .dataframe thead th {\n",
              "        text-align: right;\n",
              "    }\n",
              "</style>\n",
              "<table border=\"1\" class=\"dataframe\">\n",
              "  <thead>\n",
              "    <tr style=\"text-align: right;\">\n",
              "      <th></th>\n",
              "      <th>Unnamed: 0</th>\n",
              "      <th>Comment_ID</th>\n",
              "      <th>Comment</th>\n",
              "      <th>UserName</th>\n",
              "      <th>StoryId</th>\n",
              "      <th>Deleted</th>\n",
              "      <th>SaltyScore</th>\n",
              "      <th>sentiment</th>\n",
              "    </tr>\n",
              "  </thead>\n",
              "  <tbody>\n",
              "    <tr>\n",
              "      <th>748</th>\n",
              "      <td>2551</td>\n",
              "      <td>23319606</td>\n",
              "      <td>What are the chances that there is no rational...</td>\n",
              "      <td>KKKKkkkk1</td>\n",
              "      <td>23318131</td>\n",
              "      <td>False</td>\n",
              "      <td>0.089</td>\n",
              "      <td>positive</td>\n",
              "    </tr>\n",
              "    <tr>\n",
              "      <th>1909</th>\n",
              "      <td>2824</td>\n",
              "      <td>23321785</td>\n",
              "      <td>Slightly off-topic but it&amp;#x27;s interesting h...</td>\n",
              "      <td>t0astbread</td>\n",
              "      <td>23321448</td>\n",
              "      <td>False</td>\n",
              "      <td>0.000</td>\n",
              "      <td>positive</td>\n",
              "    </tr>\n",
              "    <tr>\n",
              "      <th>1785</th>\n",
              "      <td>2764</td>\n",
              "      <td>23336307</td>\n",
              "      <td>Woah this works really well! I love these hand...</td>\n",
              "      <td>gitgud</td>\n",
              "      <td>23328081</td>\n",
              "      <td>False</td>\n",
              "      <td>0.000</td>\n",
              "      <td>positive</td>\n",
              "    </tr>\n",
              "    <tr>\n",
              "      <th>1692</th>\n",
              "      <td>468</td>\n",
              "      <td>23338831</td>\n",
              "      <td>Anyone can already take your job.&lt;p&gt;Since ther...</td>\n",
              "      <td>ravenstine</td>\n",
              "      <td>23337857</td>\n",
              "      <td>False</td>\n",
              "      <td>0.012</td>\n",
              "      <td>positive</td>\n",
              "    </tr>\n",
              "    <tr>\n",
              "      <th>2906</th>\n",
              "      <td>1517</td>\n",
              "      <td>23325424</td>\n",
              "      <td>There are already some novel applications of t...</td>\n",
              "      <td>cl0rkster</td>\n",
              "      <td>23322321</td>\n",
              "      <td>False</td>\n",
              "      <td>0.000</td>\n",
              "      <td>positive</td>\n",
              "    </tr>\n",
              "    <tr>\n",
              "      <th>...</th>\n",
              "      <td>...</td>\n",
              "      <td>...</td>\n",
              "      <td>...</td>\n",
              "      <td>...</td>\n",
              "      <td>...</td>\n",
              "      <td>...</td>\n",
              "      <td>...</td>\n",
              "      <td>...</td>\n",
              "    </tr>\n",
              "    <tr>\n",
              "      <th>2798</th>\n",
              "      <td>269</td>\n",
              "      <td>23338475</td>\n",
              "      <td>&lt;a href=\"http:&amp;#x2F;&amp;#x2F;www.usbmadesimple.co...</td>\n",
              "      <td>Koshkin</td>\n",
              "      <td>23335072</td>\n",
              "      <td>False</td>\n",
              "      <td>0.000</td>\n",
              "      <td>neutral</td>\n",
              "    </tr>\n",
              "    <tr>\n",
              "      <th>492</th>\n",
              "      <td>2124</td>\n",
              "      <td>23325872</td>\n",
              "      <td>Of course. Analogous to how your closet is a l...</td>\n",
              "      <td>rdiddly</td>\n",
              "      <td>23324225</td>\n",
              "      <td>False</td>\n",
              "      <td>0.116</td>\n",
              "      <td>neutral</td>\n",
              "    </tr>\n",
              "    <tr>\n",
              "      <th>298</th>\n",
              "      <td>2673</td>\n",
              "      <td>23324208</td>\n",
              "      <td>This is essentially the Andrew Wakefield fiasc...</td>\n",
              "      <td>pjc50</td>\n",
              "      <td>23322658</td>\n",
              "      <td>False</td>\n",
              "      <td>0.153</td>\n",
              "      <td>neutral</td>\n",
              "    </tr>\n",
              "    <tr>\n",
              "      <th>2912</th>\n",
              "      <td>1508</td>\n",
              "      <td>23328617</td>\n",
              "      <td>Much harder to discover new foods via a comput...</td>\n",
              "      <td>inamberclad</td>\n",
              "      <td>23324147</td>\n",
              "      <td>False</td>\n",
              "      <td>0.000</td>\n",
              "      <td>neutral</td>\n",
              "    </tr>\n",
              "    <tr>\n",
              "      <th>2136</th>\n",
              "      <td>3082</td>\n",
              "      <td>23334341</td>\n",
              "      <td>There was this demo written in Silverlight tha...</td>\n",
              "      <td>happyweasel</td>\n",
              "      <td>23332769</td>\n",
              "      <td>False</td>\n",
              "      <td>0.000</td>\n",
              "      <td>neutral</td>\n",
              "    </tr>\n",
              "  </tbody>\n",
              "</table>\n",
              "<p>1500 rows × 8 columns</p>\n",
              "</div>"
            ],
            "text/plain": [
              "      Unnamed: 0  Comment_ID  ... SaltyScore sentiment\n",
              "748         2551    23319606  ...      0.089  positive\n",
              "1909        2824    23321785  ...      0.000  positive\n",
              "1785        2764    23336307  ...      0.000  positive\n",
              "1692         468    23338831  ...      0.012  positive\n",
              "2906        1517    23325424  ...      0.000  positive\n",
              "...          ...         ...  ...        ...       ...\n",
              "2798         269    23338475  ...      0.000   neutral\n",
              "492         2124    23325872  ...      0.116   neutral\n",
              "298         2673    23324208  ...      0.153   neutral\n",
              "2912        1508    23328617  ...      0.000   neutral\n",
              "2136        3082    23334341  ...      0.000   neutral\n",
              "\n",
              "[1500 rows x 8 columns]"
            ]
          },
          "metadata": {
            "tags": []
          },
          "execution_count": 34
        }
      ]
    },
    {
      "cell_type": "code",
      "metadata": {
        "id": "04YwJkwceWte"
      },
      "source": [
        "#analyze new df\n",
        "df_samp['sentiment'] = df_samp['Comment'].apply(analyze_sentiment_vader_lexicon)"
      ],
      "execution_count": 35,
      "outputs": []
    },
    {
      "cell_type": "code",
      "metadata": {
        "id": "sPD0Bei7es9P"
      },
      "source": [
        "counter = Counter(df_samp['sentiment'].tolist())\n",
        "sent_rank = {i[0]: idx for idx, i in enumerate(counter.most_common(3))}\n",
        "df_samp = df_samp[df_samp['sentiment'].map(lambda x: x in sent_rank)]"
      ],
      "execution_count": 36,
      "outputs": []
    },
    {
      "cell_type": "code",
      "metadata": {
        "id": "rqRng_Qse0B-"
      },
      "source": [
        "comment_list = df_samp['Comment'].tolist()\n",
        "sent_list = [sent_rank[i] for i in df_samp['sentiment'].tolist()]\n",
        "sent_list = np.array(sent_list)"
      ],
      "execution_count": 37,
      "outputs": []
    },
    {
      "cell_type": "code",
      "metadata": {
        "id": "DBVqBWune5_X"
      },
      "source": [
        "count_vect = CountVectorizer()\n",
        "x_train_counts = count_vect.fit_transform(comment_list)"
      ],
      "execution_count": 38,
      "outputs": []
    },
    {
      "cell_type": "code",
      "metadata": {
        "id": "m0rXHT7-e9XX"
      },
      "source": [
        "tfidf_transformer = TfidfTransformer()\n",
        "x_train_tfidf = tfidf_transformer.fit_transform(x_train_counts)"
      ],
      "execution_count": 39,
      "outputs": []
    },
    {
      "cell_type": "code",
      "metadata": {
        "id": "jL_kDEcffBZm"
      },
      "source": [
        "X_train, X_test, y_train, y_test = train_test_split(x_train_tfidf, sent_list, test_size=0.3, random_state=0)"
      ],
      "execution_count": 40,
      "outputs": []
    },
    {
      "cell_type": "code",
      "metadata": {
        "id": "GMFIi1rrfEKd"
      },
      "source": [
        "clf = MultinomialNB().fit(X_train, y_train)"
      ],
      "execution_count": 41,
      "outputs": []
    },
    {
      "cell_type": "code",
      "metadata": {
        "id": "pUXyxBCEfIgq"
      },
      "source": [
        "y_score = clf.predict(X_test)"
      ],
      "execution_count": 42,
      "outputs": []
    },
    {
      "cell_type": "code",
      "metadata": {
        "id": "Y88lLfwgfKvc"
      },
      "source": [
        "n_right = 0\n",
        "for i in range(len(y_score)):\n",
        "  if y_score[i] == y_test[i]:\n",
        "    n_right += 1"
      ],
      "execution_count": 43,
      "outputs": []
    },
    {
      "cell_type": "code",
      "metadata": {
        "id": "se0H7QWMfOT9",
        "colab": {
          "base_uri": "https://localhost:8080/"
        },
        "outputId": "af0af4bd-6e6c-4177-9fbc-78f3d5a3df0c"
      },
      "source": [
        "#That didn't help at all\n",
        "\n",
        "print(\"Accuracy: %.2f%%\" % ((n_right/float(len(y_test)) * 100)))"
      ],
      "execution_count": 44,
      "outputs": [
        {
          "output_type": "stream",
          "text": [
            "Accuracy: 54.67%\n"
          ],
          "name": "stdout"
        }
      ]
    },
    {
      "cell_type": "code",
      "metadata": {
        "id": "QNwf6y2oh5pn"
      },
      "source": [
        "#Convert Salty to int for classification\n",
        "df['SaltyScore'] = df['SaltyScore'] *100\n",
        "df['SaltyScore'] = df['SaltyScore'].astype(int)"
      ],
      "execution_count": 45,
      "outputs": []
    },
    {
      "cell_type": "code",
      "metadata": {
        "id": "YZwmNMMYf47e"
      },
      "source": [
        "#going to bin salty score values\n",
        "\n",
        "cut_labels = ['pos', 'neu', 'neg']\n",
        "cut_bins = [0, 33, 67, 100]\n",
        "df['bin'] = pd.cut(df['SaltyScore'], bins=cut_bins, labels=cut_labels)"
      ],
      "execution_count": 46,
      "outputs": []
    },
    {
      "cell_type": "code",
      "metadata": {
        "id": "Nc4KD2uejSxU",
        "colab": {
          "base_uri": "https://localhost:8080/",
          "height": 419
        },
        "outputId": "de738a8d-5e7e-4922-f035-e277b3d90de0"
      },
      "source": [
        "df"
      ],
      "execution_count": 47,
      "outputs": [
        {
          "output_type": "execute_result",
          "data": {
            "text/html": [
              "<div>\n",
              "<style scoped>\n",
              "    .dataframe tbody tr th:only-of-type {\n",
              "        vertical-align: middle;\n",
              "    }\n",
              "\n",
              "    .dataframe tbody tr th {\n",
              "        vertical-align: top;\n",
              "    }\n",
              "\n",
              "    .dataframe thead th {\n",
              "        text-align: right;\n",
              "    }\n",
              "</style>\n",
              "<table border=\"1\" class=\"dataframe\">\n",
              "  <thead>\n",
              "    <tr style=\"text-align: right;\">\n",
              "      <th></th>\n",
              "      <th>Unnamed: 0</th>\n",
              "      <th>Comment_ID</th>\n",
              "      <th>Comment</th>\n",
              "      <th>UserName</th>\n",
              "      <th>StoryId</th>\n",
              "      <th>Deleted</th>\n",
              "      <th>SaltyScore</th>\n",
              "      <th>sentiment</th>\n",
              "      <th>bin</th>\n",
              "    </tr>\n",
              "  </thead>\n",
              "  <tbody>\n",
              "    <tr>\n",
              "      <th>0</th>\n",
              "      <td>1118</td>\n",
              "      <td>23334754</td>\n",
              "      <td>Fuck em</td>\n",
              "      <td>rStar</td>\n",
              "      <td>23331287</td>\n",
              "      <td>False</td>\n",
              "      <td>77</td>\n",
              "      <td>negative</td>\n",
              "      <td>neg</td>\n",
              "    </tr>\n",
              "    <tr>\n",
              "      <th>1</th>\n",
              "      <td>120</td>\n",
              "      <td>23338465</td>\n",
              "      <td>Not great, not terrible</td>\n",
              "      <td>laretluval</td>\n",
              "      <td>23334339</td>\n",
              "      <td>False</td>\n",
              "      <td>73</td>\n",
              "      <td>negative</td>\n",
              "      <td>neg</td>\n",
              "    </tr>\n",
              "    <tr>\n",
              "      <th>2</th>\n",
              "      <td>1353</td>\n",
              "      <td>23320362</td>\n",
              "      <td>Risk aversion and capital?</td>\n",
              "      <td>eximius</td>\n",
              "      <td>23319848</td>\n",
              "      <td>False</td>\n",
              "      <td>71</td>\n",
              "      <td>negative</td>\n",
              "      <td>neg</td>\n",
              "    </tr>\n",
              "    <tr>\n",
              "      <th>3</th>\n",
              "      <td>1265</td>\n",
              "      <td>23335878</td>\n",
              "      <td>AMP is a terrifying solution to an awful problem.</td>\n",
              "      <td>tobyhinloopen</td>\n",
              "      <td>23322730</td>\n",
              "      <td>False</td>\n",
              "      <td>59</td>\n",
              "      <td>negative</td>\n",
              "      <td>neu</td>\n",
              "    </tr>\n",
              "    <tr>\n",
              "      <th>4</th>\n",
              "      <td>2595</td>\n",
              "      <td>23329336</td>\n",
              "      <td>launch aborted :(</td>\n",
              "      <td>tosh</td>\n",
              "      <td>23322948</td>\n",
              "      <td>False</td>\n",
              "      <td>59</td>\n",
              "      <td>negative</td>\n",
              "      <td>neu</td>\n",
              "    </tr>\n",
              "    <tr>\n",
              "      <th>...</th>\n",
              "      <td>...</td>\n",
              "      <td>...</td>\n",
              "      <td>...</td>\n",
              "      <td>...</td>\n",
              "      <td>...</td>\n",
              "      <td>...</td>\n",
              "      <td>...</td>\n",
              "      <td>...</td>\n",
              "      <td>...</td>\n",
              "    </tr>\n",
              "    <tr>\n",
              "      <th>3057</th>\n",
              "      <td>1722</td>\n",
              "      <td>23338836</td>\n",
              "      <td>I’m strongly thinking of just migrating to Ubu...</td>\n",
              "      <td>samgranieri</td>\n",
              "      <td>23336255</td>\n",
              "      <td>False</td>\n",
              "      <td>0</td>\n",
              "      <td>positive</td>\n",
              "      <td>NaN</td>\n",
              "    </tr>\n",
              "    <tr>\n",
              "      <th>3058</th>\n",
              "      <td>1720</td>\n",
              "      <td>23337471</td>\n",
              "      <td>Proper ARM SBCL with threads yay</td>\n",
              "      <td>ivan4th</td>\n",
              "      <td>23336255</td>\n",
              "      <td>False</td>\n",
              "      <td>0</td>\n",
              "      <td>positive</td>\n",
              "      <td>NaN</td>\n",
              "    </tr>\n",
              "    <tr>\n",
              "      <th>3059</th>\n",
              "      <td>1719</td>\n",
              "      <td>23336865</td>\n",
              "      <td>Finally! Does this mean ArchLinuxARM (ALARM) w...</td>\n",
              "      <td>qalmakka</td>\n",
              "      <td>23336255</td>\n",
              "      <td>False</td>\n",
              "      <td>0</td>\n",
              "      <td>positive</td>\n",
              "      <td>NaN</td>\n",
              "    </tr>\n",
              "    <tr>\n",
              "      <th>3060</th>\n",
              "      <td>1718</td>\n",
              "      <td>23338715</td>\n",
              "      <td>Is there a noticeable performance benefit with...</td>\n",
              "      <td>mgamache</td>\n",
              "      <td>23336255</td>\n",
              "      <td>False</td>\n",
              "      <td>0</td>\n",
              "      <td>positive</td>\n",
              "      <td>NaN</td>\n",
              "    </tr>\n",
              "    <tr>\n",
              "      <th>3061</th>\n",
              "      <td>0</td>\n",
              "      <td>23341390</td>\n",
              "      <td>&amp;gt; Java 8 language support update: APIs you ...</td>\n",
              "      <td>pjmlp</td>\n",
              "      <td>23340887</td>\n",
              "      <td>False</td>\n",
              "      <td>0</td>\n",
              "      <td>positive</td>\n",
              "      <td>NaN</td>\n",
              "    </tr>\n",
              "  </tbody>\n",
              "</table>\n",
              "<p>3062 rows × 9 columns</p>\n",
              "</div>"
            ],
            "text/plain": [
              "      Unnamed: 0  Comment_ID  ... sentiment  bin\n",
              "0           1118    23334754  ...  negative  neg\n",
              "1            120    23338465  ...  negative  neg\n",
              "2           1353    23320362  ...  negative  neg\n",
              "3           1265    23335878  ...  negative  neu\n",
              "4           2595    23329336  ...  negative  neu\n",
              "...          ...         ...  ...       ...  ...\n",
              "3057        1722    23338836  ...  positive  NaN\n",
              "3058        1720    23337471  ...  positive  NaN\n",
              "3059        1719    23336865  ...  positive  NaN\n",
              "3060        1718    23338715  ...  positive  NaN\n",
              "3061           0    23341390  ...  positive  NaN\n",
              "\n",
              "[3062 rows x 9 columns]"
            ]
          },
          "metadata": {
            "tags": []
          },
          "execution_count": 47
        }
      ]
    },
    {
      "cell_type": "code",
      "metadata": {
        "id": "z6f81IPCheiC"
      },
      "source": [
        "df['bin'] = df['bin'].fillna('neg')"
      ],
      "execution_count": 48,
      "outputs": []
    },
    {
      "cell_type": "code",
      "metadata": {
        "id": "0qyCnVn-kEJd"
      },
      "source": [
        "df['bin'] = df['Comment'].apply(analyze_sentiment_vader_lexicon)"
      ],
      "execution_count": 49,
      "outputs": []
    },
    {
      "cell_type": "code",
      "metadata": {
        "id": "tbbbmmAdJ2ua"
      },
      "source": [
        "#df = pd.DataFrame.drop(df, columns=['sentiment','SaltyScore','Deleted', 'StoryId', 'Unnamed: 0', 'Comment_ID'])\n",
        "df = pd.DataFrame.drop(df, columns=['SaltyScore','Deleted', 'StoryId', 'Unnamed: 0', 'Comment_ID'])"
      ],
      "execution_count": 50,
      "outputs": []
    },
    {
      "cell_type": "code",
      "metadata": {
        "id": "zcSlPo7eKWW5",
        "colab": {
          "base_uri": "https://localhost:8080/",
          "height": 419
        },
        "outputId": "2b8d3b73-b362-4d30-9c39-5b428acf6762"
      },
      "source": [
        "df"
      ],
      "execution_count": 51,
      "outputs": [
        {
          "output_type": "execute_result",
          "data": {
            "text/html": [
              "<div>\n",
              "<style scoped>\n",
              "    .dataframe tbody tr th:only-of-type {\n",
              "        vertical-align: middle;\n",
              "    }\n",
              "\n",
              "    .dataframe tbody tr th {\n",
              "        vertical-align: top;\n",
              "    }\n",
              "\n",
              "    .dataframe thead th {\n",
              "        text-align: right;\n",
              "    }\n",
              "</style>\n",
              "<table border=\"1\" class=\"dataframe\">\n",
              "  <thead>\n",
              "    <tr style=\"text-align: right;\">\n",
              "      <th></th>\n",
              "      <th>Comment</th>\n",
              "      <th>UserName</th>\n",
              "      <th>sentiment</th>\n",
              "      <th>bin</th>\n",
              "    </tr>\n",
              "  </thead>\n",
              "  <tbody>\n",
              "    <tr>\n",
              "      <th>0</th>\n",
              "      <td>Fuck em</td>\n",
              "      <td>rStar</td>\n",
              "      <td>negative</td>\n",
              "      <td>negative</td>\n",
              "    </tr>\n",
              "    <tr>\n",
              "      <th>1</th>\n",
              "      <td>Not great, not terrible</td>\n",
              "      <td>laretluval</td>\n",
              "      <td>negative</td>\n",
              "      <td>negative</td>\n",
              "    </tr>\n",
              "    <tr>\n",
              "      <th>2</th>\n",
              "      <td>Risk aversion and capital?</td>\n",
              "      <td>eximius</td>\n",
              "      <td>negative</td>\n",
              "      <td>negative</td>\n",
              "    </tr>\n",
              "    <tr>\n",
              "      <th>3</th>\n",
              "      <td>AMP is a terrifying solution to an awful problem.</td>\n",
              "      <td>tobyhinloopen</td>\n",
              "      <td>negative</td>\n",
              "      <td>negative</td>\n",
              "    </tr>\n",
              "    <tr>\n",
              "      <th>4</th>\n",
              "      <td>launch aborted :(</td>\n",
              "      <td>tosh</td>\n",
              "      <td>negative</td>\n",
              "      <td>negative</td>\n",
              "    </tr>\n",
              "    <tr>\n",
              "      <th>...</th>\n",
              "      <td>...</td>\n",
              "      <td>...</td>\n",
              "      <td>...</td>\n",
              "      <td>...</td>\n",
              "    </tr>\n",
              "    <tr>\n",
              "      <th>3057</th>\n",
              "      <td>I’m strongly thinking of just migrating to Ubu...</td>\n",
              "      <td>samgranieri</td>\n",
              "      <td>positive</td>\n",
              "      <td>positive</td>\n",
              "    </tr>\n",
              "    <tr>\n",
              "      <th>3058</th>\n",
              "      <td>Proper ARM SBCL with threads yay</td>\n",
              "      <td>ivan4th</td>\n",
              "      <td>positive</td>\n",
              "      <td>positive</td>\n",
              "    </tr>\n",
              "    <tr>\n",
              "      <th>3059</th>\n",
              "      <td>Finally! Does this mean ArchLinuxARM (ALARM) w...</td>\n",
              "      <td>qalmakka</td>\n",
              "      <td>positive</td>\n",
              "      <td>positive</td>\n",
              "    </tr>\n",
              "    <tr>\n",
              "      <th>3060</th>\n",
              "      <td>Is there a noticeable performance benefit with...</td>\n",
              "      <td>mgamache</td>\n",
              "      <td>positive</td>\n",
              "      <td>positive</td>\n",
              "    </tr>\n",
              "    <tr>\n",
              "      <th>3061</th>\n",
              "      <td>&amp;gt; Java 8 language support update: APIs you ...</td>\n",
              "      <td>pjmlp</td>\n",
              "      <td>positive</td>\n",
              "      <td>positive</td>\n",
              "    </tr>\n",
              "  </tbody>\n",
              "</table>\n",
              "<p>3062 rows × 4 columns</p>\n",
              "</div>"
            ],
            "text/plain": [
              "                                                Comment  ...       bin\n",
              "0                                               Fuck em  ...  negative\n",
              "1                               Not great, not terrible  ...  negative\n",
              "2                            Risk aversion and capital?  ...  negative\n",
              "3     AMP is a terrifying solution to an awful problem.  ...  negative\n",
              "4                                     launch aborted :(  ...  negative\n",
              "...                                                 ...  ...       ...\n",
              "3057  I’m strongly thinking of just migrating to Ubu...  ...  positive\n",
              "3058                   Proper ARM SBCL with threads yay  ...  positive\n",
              "3059  Finally! Does this mean ArchLinuxARM (ALARM) w...  ...  positive\n",
              "3060  Is there a noticeable performance benefit with...  ...  positive\n",
              "3061  &gt; Java 8 language support update: APIs you ...  ...  positive\n",
              "\n",
              "[3062 rows x 4 columns]"
            ]
          },
          "metadata": {
            "tags": []
          },
          "execution_count": 51
        }
      ]
    },
    {
      "cell_type": "code",
      "metadata": {
        "id": "yMSE3rOljdVc"
      },
      "source": [
        "counter = Counter(df['bin'].tolist())\n",
        "salt_rank = {i[0]: idx for idx, i in enumerate(counter.most_common(3))}\n",
        "df = df[df['bin'].map(lambda x: x in salt_rank)]"
      ],
      "execution_count": 52,
      "outputs": []
    },
    {
      "cell_type": "code",
      "metadata": {
        "id": "p-qTjyF2jm9u"
      },
      "source": [
        "comment_list = df['bin'].tolist()\n",
        "salt_list = [salt_rank[i] for i in df['bin'].tolist()]\n",
        "salt_list = np.array(salt_list)"
      ],
      "execution_count": 53,
      "outputs": []
    },
    {
      "cell_type": "code",
      "metadata": {
        "id": "yuU8-T46j9lW"
      },
      "source": [
        "count_vect = CountVectorizer()\n",
        "x_train_counts = count_vect.fit_transform(comment_list)"
      ],
      "execution_count": 54,
      "outputs": []
    },
    {
      "cell_type": "code",
      "metadata": {
        "id": "Jf9MhohakN5P"
      },
      "source": [
        "tfidf_transformer = TfidfTransformer()\n",
        "x_train_tfidf = tfidf_transformer.fit_transform(x_train_counts)"
      ],
      "execution_count": 55,
      "outputs": []
    },
    {
      "cell_type": "code",
      "metadata": {
        "id": "s-7wLcTdkQGC"
      },
      "source": [
        "X_train, X_test, y_train, y_test = train_test_split(x_train_tfidf, salt_list, test_size=0.3, random_state=0)"
      ],
      "execution_count": 56,
      "outputs": []
    },
    {
      "cell_type": "code",
      "metadata": {
        "id": "Dg5jNIH-kSd7"
      },
      "source": [
        "clf = MultinomialNB().fit(X_train, y_train)"
      ],
      "execution_count": 57,
      "outputs": []
    },
    {
      "cell_type": "code",
      "metadata": {
        "id": "MbTjM8cSkUqt"
      },
      "source": [
        "y_score = clf.predict(X_test)"
      ],
      "execution_count": 58,
      "outputs": []
    },
    {
      "cell_type": "code",
      "metadata": {
        "id": "JfmwY-BpkW9z"
      },
      "source": [
        "n_right = 0\n",
        "for i in range(len(y_score)):\n",
        "  if y_score[i] == y_test[i]:\n",
        "    n_right += 1"
      ],
      "execution_count": 59,
      "outputs": []
    },
    {
      "cell_type": "code",
      "metadata": {
        "id": "Sru11VS1kZ4w",
        "colab": {
          "base_uri": "https://localhost:8080/"
        },
        "outputId": "5d640eb5-e84c-4d95-b944-1ec8758ee358"
      },
      "source": [
        "#probably overfit\n",
        "\n",
        "print(\"Accuracy: %.2f%%\" % ((n_right/float(len(y_test)) * 100)))"
      ],
      "execution_count": 60,
      "outputs": [
        {
          "output_type": "stream",
          "text": [
            "Accuracy: 100.00%\n"
          ],
          "name": "stdout"
        }
      ]
    },
    {
      "cell_type": "code",
      "metadata": {
        "id": "qKHrlCzPMOpc"
      },
      "source": [
        "#Experiment with deep learning model\n",
        "\n",
        "from nltk import word_tokenize\n",
        "from collections import defaultdict"
      ],
      "execution_count": 61,
      "outputs": []
    },
    {
      "cell_type": "code",
      "metadata": {
        "id": "AkHhnHOBVwIM",
        "colab": {
          "base_uri": "https://localhost:8080/"
        },
        "outputId": "c253cebd-2187-4103-b04a-d80488cdd4d7"
      },
      "source": [
        "nltk.download('punkt')"
      ],
      "execution_count": 62,
      "outputs": [
        {
          "output_type": "stream",
          "text": [
            "[nltk_data] Downloading package punkt to /root/nltk_data...\n",
            "[nltk_data]   Unzipping tokenizers/punkt.zip.\n"
          ],
          "name": "stdout"
        },
        {
          "output_type": "execute_result",
          "data": {
            "text/plain": [
              "True"
            ]
          },
          "metadata": {
            "tags": []
          },
          "execution_count": 62
        }
      ]
    },
    {
      "cell_type": "code",
      "metadata": {
        "id": "epuNC45IMZxS"
      },
      "source": [
        "def count_top_x_words(corpus, top_x, skip_top_n):\n",
        "  count = defaultdict(lambda: 0)\n",
        "  for c in corpus:\n",
        "    for w in word_tokenize(c):\n",
        "      count[w] += 1\n",
        "  count_tuples = sorted([(w,c) for w, c in count.items()], key=lambda x: x[1], reverse=True)\n",
        "  return [i[0] for i in count_tuples[skip_top_n: skip_top_n + top_x]]"
      ],
      "execution_count": 63,
      "outputs": []
    },
    {
      "cell_type": "code",
      "metadata": {
        "id": "s7NBd68FM9Ob"
      },
      "source": [
        "def replace_top_x_words_with_vectors(corpus, top_x):\n",
        "  topx_dict = {top_x[i]: i for i in range(len(top_x))}\n",
        "  return [\n",
        "          [topx_dict[w] for w in word_tokenize(s) if w in topx_dict]\n",
        "          for s in corpus\n",
        "  ], topx_dict"
      ],
      "execution_count": 64,
      "outputs": []
    },
    {
      "cell_type": "code",
      "metadata": {
        "id": "l1FCY_52NvFX"
      },
      "source": [
        "def filter_to_top_x(corpus, n_top, skip_top_n=0):\n",
        "  top_x = count_top_x_words(corpus, n_top, skip_top_n)\n",
        "  return replace_top_x_words_with_vectors(corpus, top_x)"
      ],
      "execution_count": 65,
      "outputs": []
    },
    {
      "cell_type": "code",
      "metadata": {
        "id": "pL5lRHOiO_Ro",
        "colab": {
          "base_uri": "https://localhost:8080/"
        },
        "outputId": "e3c750b0-ea5e-4da3-db9e-f6c9fd568cef"
      },
      "source": [
        "!pip install lib"
      ],
      "execution_count": 66,
      "outputs": [
        {
          "output_type": "stream",
          "text": [
            "Collecting lib\n",
            "  Downloading https://files.pythonhosted.org/packages/5c/15/f8ba504146fbe6f1bcb79786fd9b9cb45e5e3ff4c4536d1418d83fdd143c/lib-3.0.0.tar.gz\n",
            "Building wheels for collected packages: lib\n",
            "  Building wheel for lib (setup.py) ... \u001b[?25l\u001b[?25hdone\n",
            "  Created wheel for lib: filename=lib-3.0.0-cp36-none-any.whl size=3213 sha256=0c94c75cd4670cb3e81bcef20a197cd498263590139fef95ea3d0544238b559c\n",
            "  Stored in directory: /root/.cache/pip/wheels/52/de/da/0ef2064c4b4a213d27518228ebd79a2349e1b81341b05f7196\n",
            "Successfully built lib\n",
            "Installing collected packages: lib\n",
            "Successfully installed lib-3.0.0\n"
          ],
          "name": "stdout"
        }
      ]
    },
    {
      "cell_type": "code",
      "metadata": {
        "id": "sXxJiU_mORN5"
      },
      "source": [
        "from keras.models import Sequential\n",
        "from keras.layers import Dense, Conv1D, Flatten\n",
        "from keras.layers.embeddings import Embedding\n",
        "from keras.preprocessing import sequence\n",
        "from keras.utils import to_categorical\n",
        "import pandas as pd\n",
        "from collections import Counter\n",
        "import lib"
      ],
      "execution_count": 67,
      "outputs": []
    },
    {
      "cell_type": "code",
      "metadata": {
        "id": "zV8MGEilQ5iw"
      },
      "source": [
        "#Using the Hackernews dataset\n",
        "\n",
        "df = pd.read_csv('/content/Final_Salty.csv')"
      ],
      "execution_count": 68,
      "outputs": []
    },
    {
      "cell_type": "code",
      "metadata": {
        "id": "7WoPuD14Q6u6",
        "colab": {
          "base_uri": "https://localhost:8080/",
          "height": 419
        },
        "outputId": "7d6bd7db-0ea1-4d83-c2b5-15ca9aa0a817"
      },
      "source": [
        "df"
      ],
      "execution_count": 69,
      "outputs": [
        {
          "output_type": "execute_result",
          "data": {
            "text/html": [
              "<div>\n",
              "<style scoped>\n",
              "    .dataframe tbody tr th:only-of-type {\n",
              "        vertical-align: middle;\n",
              "    }\n",
              "\n",
              "    .dataframe tbody tr th {\n",
              "        vertical-align: top;\n",
              "    }\n",
              "\n",
              "    .dataframe thead th {\n",
              "        text-align: right;\n",
              "    }\n",
              "</style>\n",
              "<table border=\"1\" class=\"dataframe\">\n",
              "  <thead>\n",
              "    <tr style=\"text-align: right;\">\n",
              "      <th></th>\n",
              "      <th>Unnamed: 0</th>\n",
              "      <th>Comment_ID</th>\n",
              "      <th>Comment</th>\n",
              "      <th>UserName</th>\n",
              "      <th>StoryId</th>\n",
              "      <th>Deleted</th>\n",
              "      <th>SaltyScore</th>\n",
              "    </tr>\n",
              "  </thead>\n",
              "  <tbody>\n",
              "    <tr>\n",
              "      <th>0</th>\n",
              "      <td>1118</td>\n",
              "      <td>23334754</td>\n",
              "      <td>Fuck em</td>\n",
              "      <td>rStar</td>\n",
              "      <td>23331287</td>\n",
              "      <td>False</td>\n",
              "      <td>0.778</td>\n",
              "    </tr>\n",
              "    <tr>\n",
              "      <th>1</th>\n",
              "      <td>120</td>\n",
              "      <td>23338465</td>\n",
              "      <td>Not great, not terrible</td>\n",
              "      <td>laretluval</td>\n",
              "      <td>23334339</td>\n",
              "      <td>False</td>\n",
              "      <td>0.731</td>\n",
              "    </tr>\n",
              "    <tr>\n",
              "      <th>2</th>\n",
              "      <td>1353</td>\n",
              "      <td>23320362</td>\n",
              "      <td>Risk aversion and capital?</td>\n",
              "      <td>eximius</td>\n",
              "      <td>23319848</td>\n",
              "      <td>False</td>\n",
              "      <td>0.714</td>\n",
              "    </tr>\n",
              "    <tr>\n",
              "      <th>3</th>\n",
              "      <td>1265</td>\n",
              "      <td>23335878</td>\n",
              "      <td>AMP is a terrifying solution to an awful problem.</td>\n",
              "      <td>tobyhinloopen</td>\n",
              "      <td>23322730</td>\n",
              "      <td>False</td>\n",
              "      <td>0.599</td>\n",
              "    </tr>\n",
              "    <tr>\n",
              "      <th>4</th>\n",
              "      <td>2595</td>\n",
              "      <td>23329336</td>\n",
              "      <td>launch aborted :(</td>\n",
              "      <td>tosh</td>\n",
              "      <td>23322948</td>\n",
              "      <td>False</td>\n",
              "      <td>0.592</td>\n",
              "    </tr>\n",
              "    <tr>\n",
              "      <th>...</th>\n",
              "      <td>...</td>\n",
              "      <td>...</td>\n",
              "      <td>...</td>\n",
              "      <td>...</td>\n",
              "      <td>...</td>\n",
              "      <td>...</td>\n",
              "      <td>...</td>\n",
              "    </tr>\n",
              "    <tr>\n",
              "      <th>3057</th>\n",
              "      <td>1722</td>\n",
              "      <td>23338836</td>\n",
              "      <td>I’m strongly thinking of just migrating to Ubu...</td>\n",
              "      <td>samgranieri</td>\n",
              "      <td>23336255</td>\n",
              "      <td>False</td>\n",
              "      <td>0.000</td>\n",
              "    </tr>\n",
              "    <tr>\n",
              "      <th>3058</th>\n",
              "      <td>1720</td>\n",
              "      <td>23337471</td>\n",
              "      <td>Proper ARM SBCL with threads yay</td>\n",
              "      <td>ivan4th</td>\n",
              "      <td>23336255</td>\n",
              "      <td>False</td>\n",
              "      <td>0.000</td>\n",
              "    </tr>\n",
              "    <tr>\n",
              "      <th>3059</th>\n",
              "      <td>1719</td>\n",
              "      <td>23336865</td>\n",
              "      <td>Finally! Does this mean ArchLinuxARM (ALARM) w...</td>\n",
              "      <td>qalmakka</td>\n",
              "      <td>23336255</td>\n",
              "      <td>False</td>\n",
              "      <td>0.000</td>\n",
              "    </tr>\n",
              "    <tr>\n",
              "      <th>3060</th>\n",
              "      <td>1718</td>\n",
              "      <td>23338715</td>\n",
              "      <td>Is there a noticeable performance benefit with...</td>\n",
              "      <td>mgamache</td>\n",
              "      <td>23336255</td>\n",
              "      <td>False</td>\n",
              "      <td>0.000</td>\n",
              "    </tr>\n",
              "    <tr>\n",
              "      <th>3061</th>\n",
              "      <td>0</td>\n",
              "      <td>23341390</td>\n",
              "      <td>&amp;gt; Java 8 language support update: APIs you ...</td>\n",
              "      <td>pjmlp</td>\n",
              "      <td>23340887</td>\n",
              "      <td>False</td>\n",
              "      <td>0.000</td>\n",
              "    </tr>\n",
              "  </tbody>\n",
              "</table>\n",
              "<p>3062 rows × 7 columns</p>\n",
              "</div>"
            ],
            "text/plain": [
              "      Unnamed: 0  Comment_ID  ... Deleted SaltyScore\n",
              "0           1118    23334754  ...   False      0.778\n",
              "1            120    23338465  ...   False      0.731\n",
              "2           1353    23320362  ...   False      0.714\n",
              "3           1265    23335878  ...   False      0.599\n",
              "4           2595    23329336  ...   False      0.592\n",
              "...          ...         ...  ...     ...        ...\n",
              "3057        1722    23338836  ...   False      0.000\n",
              "3058        1720    23337471  ...   False      0.000\n",
              "3059        1719    23336865  ...   False      0.000\n",
              "3060        1718    23338715  ...   False      0.000\n",
              "3061           0    23341390  ...   False      0.000\n",
              "\n",
              "[3062 rows x 7 columns]"
            ]
          },
          "metadata": {
            "tags": []
          },
          "execution_count": 69
        }
      ]
    },
    {
      "cell_type": "code",
      "metadata": {
        "id": "ettkK7ujRO2B"
      },
      "source": [
        "df['sentiment'] = df['Comment'].apply(analyze_sentiment_vader_lexicon)"
      ],
      "execution_count": 70,
      "outputs": []
    },
    {
      "cell_type": "code",
      "metadata": {
        "id": "fLTB-gPPQo5z"
      },
      "source": [
        "counter = Counter(df['sentiment'].tolist())\n",
        "top_sent = {i[0]: idx for idx, i in enumerate(counter.most_common(3))}\n",
        "df = df[df['sentiment'].map(lambda x: x in top_sent)]"
      ],
      "execution_count": 71,
      "outputs": []
    },
    {
      "cell_type": "code",
      "metadata": {
        "id": "zq-699scSRKI"
      },
      "source": [
        "comment_list = df['Comment'].tolist()\n",
        "mapped_list, word_list = filter_to_top_x(comment_list, 2500, 10)\n",
        "comment_list_o = [top_sent[i] for i in df['sentiment'].tolist()]\n",
        "comment_list = to_categorical(comment_list_o)\n",
        "\n",
        "max_comment_length = 150\n",
        "\n",
        "mapped_list = sequence.pad_sequences(mapped_list, maxlen=max_comment_length)\n",
        "train_x, test_x, train_y, test_y = train_test_split(mapped_list, comment_list, test_size=0.3)"
      ],
      "execution_count": 72,
      "outputs": []
    },
    {
      "cell_type": "code",
      "metadata": {
        "id": "Xjb5A5f-W2cX"
      },
      "source": [
        "max_review_length = 150\n",
        "\n",
        "embedding_vector_length = 64\n",
        "model = Sequential()"
      ],
      "execution_count": 73,
      "outputs": []
    },
    {
      "cell_type": "code",
      "metadata": {
        "id": "c8I88A6Pmteb",
        "colab": {
          "base_uri": "https://localhost:8080/"
        },
        "outputId": "288ee3af-b4c0-441c-ea03-cff89d2ca208"
      },
      "source": [
        "model.add(Embedding(2500, embedding_vector_length, input_length=max_review_length))\n",
        "model.add(Conv1D(50, 5))\n",
        "model.add(Flatten())\n",
        "model.add(Dense(100, activation='relu'))\n",
        "model.add(Dense(max(comment_list_o) + 1, activation='softmax'))\n",
        "model.compile(loss='categorical_crossentropy', optimizer='adam', metrics=['accuracy'])\n",
        "model.fit(train_x, train_y, epochs=25, batch_size=64)\n",
        "\n",
        "y_score = model.predict(test_x)\n",
        "y_score = [[1 if i == max(sc) else 0 for i in sc] for sc in y_score]\n",
        "n_right = 0\n",
        "for i in range(len(y_score)):\n",
        "    if all(y_score[i][j] == test_y[i][j] for j in range(len(y_score[i]))):\n",
        "        n_right += 1\n",
        "        "
      ],
      "execution_count": 74,
      "outputs": [
        {
          "output_type": "stream",
          "text": [
            "Epoch 1/25\n",
            "34/34 [==============================] - 2s 44ms/step - loss: 0.9637 - accuracy: 0.5906\n",
            "Epoch 2/25\n",
            "34/34 [==============================] - 1s 43ms/step - loss: 0.8049 - accuracy: 0.6092\n",
            "Epoch 3/25\n",
            "34/34 [==============================] - 2s 44ms/step - loss: 0.5449 - accuracy: 0.7774\n",
            "Epoch 4/25\n",
            "34/34 [==============================] - 1s 43ms/step - loss: 0.2488 - accuracy: 0.9325\n",
            "Epoch 5/25\n",
            "34/34 [==============================] - 1s 43ms/step - loss: 0.1104 - accuracy: 0.9732\n",
            "Epoch 6/25\n",
            "34/34 [==============================] - 1s 43ms/step - loss: 0.0485 - accuracy: 0.9910\n",
            "Epoch 7/25\n",
            "34/34 [==============================] - 1s 44ms/step - loss: 0.0308 - accuracy: 0.9961\n",
            "Epoch 8/25\n",
            "34/34 [==============================] - 2s 44ms/step - loss: 0.0262 - accuracy: 0.9940\n",
            "Epoch 9/25\n",
            "34/34 [==============================] - 2s 45ms/step - loss: 0.0143 - accuracy: 0.9960\n",
            "Epoch 10/25\n",
            "34/34 [==============================] - 2s 44ms/step - loss: 0.0122 - accuracy: 0.9957\n",
            "Epoch 11/25\n",
            "34/34 [==============================] - 2s 46ms/step - loss: 0.0089 - accuracy: 0.9988\n",
            "Epoch 12/25\n",
            "34/34 [==============================] - 2s 45ms/step - loss: 0.0108 - accuracy: 0.9971\n",
            "Epoch 13/25\n",
            "34/34 [==============================] - 2s 48ms/step - loss: 0.0071 - accuracy: 0.9988\n",
            "Epoch 14/25\n",
            "34/34 [==============================] - 2s 48ms/step - loss: 0.0094 - accuracy: 0.9972\n",
            "Epoch 15/25\n",
            "34/34 [==============================] - 2s 49ms/step - loss: 0.0077 - accuracy: 0.9969\n",
            "Epoch 16/25\n",
            "34/34 [==============================] - 2s 46ms/step - loss: 0.0042 - accuracy: 0.9992\n",
            "Epoch 17/25\n",
            "34/34 [==============================] - 2s 45ms/step - loss: 0.0035 - accuracy: 0.9997\n",
            "Epoch 18/25\n",
            "34/34 [==============================] - 1s 44ms/step - loss: 0.0033 - accuracy: 0.9995\n",
            "Epoch 19/25\n",
            "34/34 [==============================] - 2s 45ms/step - loss: 0.0048 - accuracy: 0.9993\n",
            "Epoch 20/25\n",
            "34/34 [==============================] - 1s 44ms/step - loss: 0.0042 - accuracy: 0.9991\n",
            "Epoch 21/25\n",
            "34/34 [==============================] - 2s 45ms/step - loss: 0.0032 - accuracy: 0.9994\n",
            "Epoch 22/25\n",
            "34/34 [==============================] - 1s 44ms/step - loss: 0.0019 - accuracy: 0.9997\n",
            "Epoch 23/25\n",
            "34/34 [==============================] - 2s 45ms/step - loss: 0.0020 - accuracy: 0.9997\n",
            "Epoch 24/25\n",
            "34/34 [==============================] - 2s 45ms/step - loss: 0.0022 - accuracy: 0.9996\n",
            "Epoch 25/25\n",
            "34/34 [==============================] - 2s 45ms/step - loss: 0.0028 - accuracy: 0.9993\n"
          ],
          "name": "stdout"
        }
      ]
    }
  ]
}