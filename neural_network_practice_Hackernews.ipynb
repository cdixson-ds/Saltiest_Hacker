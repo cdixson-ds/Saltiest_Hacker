{
  "nbformat": 4,
  "nbformat_minor": 0,
  "metadata": {
    "colab": {
      "name": "neural_network_practice_Hackernews.ipynb",
      "provenance": [],
      "collapsed_sections": []
    },
    "kernelspec": {
      "name": "python3",
      "display_name": "Python 3"
    }
  },
  "cells": [
    {
      "cell_type": "code",
      "metadata": {
        "id": "tTsVPOknGRPm",
        "colab_type": "code",
        "outputId": "1c8ee227-0877-44c3-df6a-4f91a5d790d5",
        "colab": {
          "base_uri": "https://localhost:8080/",
          "height": 178
        }
      },
      "source": [
        "!pip install twython"
      ],
      "execution_count": 324,
      "outputs": [
        {
          "output_type": "stream",
          "text": [
            "Requirement already satisfied: twython in /usr/local/lib/python3.6/dist-packages (3.8.2)\n",
            "Requirement already satisfied: requests-oauthlib>=0.4.0 in /usr/local/lib/python3.6/dist-packages (from twython) (1.3.0)\n",
            "Requirement already satisfied: requests>=2.1.0 in /usr/local/lib/python3.6/dist-packages (from twython) (2.23.0)\n",
            "Requirement already satisfied: oauthlib>=3.0.0 in /usr/local/lib/python3.6/dist-packages (from requests-oauthlib>=0.4.0->twython) (3.1.0)\n",
            "Requirement already satisfied: chardet<4,>=3.0.2 in /usr/local/lib/python3.6/dist-packages (from requests>=2.1.0->twython) (3.0.4)\n",
            "Requirement already satisfied: certifi>=2017.4.17 in /usr/local/lib/python3.6/dist-packages (from requests>=2.1.0->twython) (2020.4.5.1)\n",
            "Requirement already satisfied: idna<3,>=2.5 in /usr/local/lib/python3.6/dist-packages (from requests>=2.1.0->twython) (2.9)\n",
            "Requirement already satisfied: urllib3!=1.25.0,!=1.25.1,<1.26,>=1.21.1 in /usr/local/lib/python3.6/dist-packages (from requests>=2.1.0->twython) (1.24.3)\n"
          ],
          "name": "stdout"
        }
      ]
    },
    {
      "cell_type": "code",
      "metadata": {
        "id": "qgHt-DJRy8nY",
        "colab_type": "code",
        "colab": {}
      },
      "source": [
        "import numpy as np\n",
        "from sklearn.naive_bayes import MultinomialNB\n",
        "from sklearn.feature_extraction.text import CountVectorizer\n",
        "import pandas as pd\n",
        "from collections import Counter\n",
        "from sklearn.model_selection import train_test_split\n",
        "from sklearn.feature_extraction.text import TfidfTransformer\n",
        "from nltk.sentiment.vader import SentimentIntensityAnalyzer\n",
        "import nltk\n",
        "import twython"
      ],
      "execution_count": 0,
      "outputs": []
    },
    {
      "cell_type": "code",
      "metadata": {
        "id": "8e9aH1GfGCRE",
        "colab_type": "code",
        "outputId": "df1a54b8-e4d0-41f1-ad69-4213c3822ab2",
        "colab": {
          "base_uri": "https://localhost:8080/",
          "height": 70
        }
      },
      "source": [
        "nltk.download('vader_lexicon')"
      ],
      "execution_count": 326,
      "outputs": [
        {
          "output_type": "stream",
          "text": [
            "[nltk_data] Downloading package vader_lexicon to /root/nltk_data...\n",
            "[nltk_data]   Package vader_lexicon is already up-to-date!\n"
          ],
          "name": "stdout"
        },
        {
          "output_type": "execute_result",
          "data": {
            "text/plain": [
              "True"
            ]
          },
          "metadata": {
            "tags": []
          },
          "execution_count": 326
        }
      ]
    },
    {
      "cell_type": "code",
      "metadata": {
        "id": "EODFNPyqzj95",
        "colab_type": "code",
        "outputId": "68ff1d01-a0d9-421d-8751-91c301b1f555",
        "colab": {
          "base_uri": "https://localhost:8080/",
          "height": 34
        }
      },
      "source": [
        "%ls"
      ],
      "execution_count": 327,
      "outputs": [
        {
          "output_type": "stream",
          "text": [
            "Final_Salty.csv  \u001b[0m\u001b[01;34msample_data\u001b[0m/\n"
          ],
          "name": "stdout"
        }
      ]
    },
    {
      "cell_type": "code",
      "metadata": {
        "id": "W-B3EhpKyTnP",
        "colab_type": "code",
        "colab": {}
      },
      "source": [
        "#Using the Hackernews dataset\n",
        "\n",
        "df = pd.read_csv('/content/Final_Salty.csv')"
      ],
      "execution_count": 0,
      "outputs": []
    },
    {
      "cell_type": "code",
      "metadata": {
        "id": "B7n9lPS6zugP",
        "colab_type": "code",
        "outputId": "28989739-e872-40b3-eacf-833c1178e1e1",
        "colab": {
          "base_uri": "https://localhost:8080/",
          "height": 195
        }
      },
      "source": [
        "#SaltyScore created using Vader, highest salt on top\n",
        "\n",
        "df.head()"
      ],
      "execution_count": 329,
      "outputs": [
        {
          "output_type": "execute_result",
          "data": {
            "text/html": [
              "<div>\n",
              "<style scoped>\n",
              "    .dataframe tbody tr th:only-of-type {\n",
              "        vertical-align: middle;\n",
              "    }\n",
              "\n",
              "    .dataframe tbody tr th {\n",
              "        vertical-align: top;\n",
              "    }\n",
              "\n",
              "    .dataframe thead th {\n",
              "        text-align: right;\n",
              "    }\n",
              "</style>\n",
              "<table border=\"1\" class=\"dataframe\">\n",
              "  <thead>\n",
              "    <tr style=\"text-align: right;\">\n",
              "      <th></th>\n",
              "      <th>Unnamed: 0</th>\n",
              "      <th>Comment_ID</th>\n",
              "      <th>Comment</th>\n",
              "      <th>UserName</th>\n",
              "      <th>StoryId</th>\n",
              "      <th>Deleted</th>\n",
              "      <th>SaltyScore</th>\n",
              "    </tr>\n",
              "  </thead>\n",
              "  <tbody>\n",
              "    <tr>\n",
              "      <th>0</th>\n",
              "      <td>1118</td>\n",
              "      <td>23334754</td>\n",
              "      <td>Fuck em</td>\n",
              "      <td>rStar</td>\n",
              "      <td>23331287</td>\n",
              "      <td>False</td>\n",
              "      <td>0.778</td>\n",
              "    </tr>\n",
              "    <tr>\n",
              "      <th>1</th>\n",
              "      <td>120</td>\n",
              "      <td>23338465</td>\n",
              "      <td>Not great, not terrible</td>\n",
              "      <td>laretluval</td>\n",
              "      <td>23334339</td>\n",
              "      <td>False</td>\n",
              "      <td>0.731</td>\n",
              "    </tr>\n",
              "    <tr>\n",
              "      <th>2</th>\n",
              "      <td>1353</td>\n",
              "      <td>23320362</td>\n",
              "      <td>Risk aversion and capital?</td>\n",
              "      <td>eximius</td>\n",
              "      <td>23319848</td>\n",
              "      <td>False</td>\n",
              "      <td>0.714</td>\n",
              "    </tr>\n",
              "    <tr>\n",
              "      <th>3</th>\n",
              "      <td>1265</td>\n",
              "      <td>23335878</td>\n",
              "      <td>AMP is a terrifying solution to an awful problem.</td>\n",
              "      <td>tobyhinloopen</td>\n",
              "      <td>23322730</td>\n",
              "      <td>False</td>\n",
              "      <td>0.599</td>\n",
              "    </tr>\n",
              "    <tr>\n",
              "      <th>4</th>\n",
              "      <td>2595</td>\n",
              "      <td>23329336</td>\n",
              "      <td>launch aborted :(</td>\n",
              "      <td>tosh</td>\n",
              "      <td>23322948</td>\n",
              "      <td>False</td>\n",
              "      <td>0.592</td>\n",
              "    </tr>\n",
              "  </tbody>\n",
              "</table>\n",
              "</div>"
            ],
            "text/plain": [
              "   Unnamed: 0  Comment_ID  ... Deleted SaltyScore\n",
              "0        1118    23334754  ...   False      0.778\n",
              "1         120    23338465  ...   False      0.731\n",
              "2        1353    23320362  ...   False      0.714\n",
              "3        1265    23335878  ...   False      0.599\n",
              "4        2595    23329336  ...   False      0.592\n",
              "\n",
              "[5 rows x 7 columns]"
            ]
          },
          "metadata": {
            "tags": []
          },
          "execution_count": 329
        }
      ]
    },
    {
      "cell_type": "code",
      "metadata": {
        "id": "ArkRwNAxEg71",
        "colab_type": "code",
        "colab": {}
      },
      "source": [
        "#Use vader to create a column for classification\n",
        "\n",
        "def analyze_sentiment_vader_lexicon(review, threshold=0.1,\n",
        "                                    verbose=False):\n",
        "  # analyze the sentiment for review\n",
        "  analyzer = SentimentIntensityAnalyzer()\n",
        "  scores = analyzer.polarity_scores(review)\n",
        "  # get aggregate scores and final sentiment\n",
        "  agg_score = scores['compound']\n",
        "  if agg_score >= threshold:\n",
        "    final_sentiment = 'positive'\n",
        "  elif agg_score <= -threshold:\n",
        "    final_sentiment = 'negative'\n",
        "  else:\n",
        "    final_sentiment = 'neutral'\n",
        "\n",
        "  if verbose:\n",
        "    # display detailed sentiment statistics\n",
        "    positive = str(round(scores['pos'], 2)*100)+'%'\n",
        "    final = round(agg_score, 2)\n",
        "    negative = str(round(scores['neg'], 2)*100)+'%'\n",
        "    neutral = str(round(scores['neu'], 2)*100)+'%'\n",
        "    sentiment_frame = pd.DataFrame([[final_sentiment, final, positive,\n",
        "                                      negative, neutral]], columns=pd.MultiIndex(levels=[['SENTIMENT STATS:'],['Predicted Sentiment', 'Polarity Score','Positive', 'Negative', 'Neutral']],codes=[[0,0,0,0,0],[0,1,2,3,4]]))\n",
        "    print(sentiment_frame)\n",
        "  return final_sentiment"
      ],
      "execution_count": 0,
      "outputs": []
    },
    {
      "cell_type": "code",
      "metadata": {
        "id": "Q7Cg4GeqFJs_",
        "colab_type": "code",
        "colab": {}
      },
      "source": [
        "df['sentiment'] = df['Comment'].apply(analyze_sentiment_vader_lexicon)"
      ],
      "execution_count": 0,
      "outputs": []
    },
    {
      "cell_type": "code",
      "metadata": {
        "id": "bPlNIidpIn-o",
        "colab_type": "code",
        "outputId": "4b80ff82-6896-438a-94b9-01ea7fa116c2",
        "colab": {
          "base_uri": "https://localhost:8080/",
          "height": 195
        }
      },
      "source": [
        "df.head()"
      ],
      "execution_count": 332,
      "outputs": [
        {
          "output_type": "execute_result",
          "data": {
            "text/html": [
              "<div>\n",
              "<style scoped>\n",
              "    .dataframe tbody tr th:only-of-type {\n",
              "        vertical-align: middle;\n",
              "    }\n",
              "\n",
              "    .dataframe tbody tr th {\n",
              "        vertical-align: top;\n",
              "    }\n",
              "\n",
              "    .dataframe thead th {\n",
              "        text-align: right;\n",
              "    }\n",
              "</style>\n",
              "<table border=\"1\" class=\"dataframe\">\n",
              "  <thead>\n",
              "    <tr style=\"text-align: right;\">\n",
              "      <th></th>\n",
              "      <th>Unnamed: 0</th>\n",
              "      <th>Comment_ID</th>\n",
              "      <th>Comment</th>\n",
              "      <th>UserName</th>\n",
              "      <th>StoryId</th>\n",
              "      <th>Deleted</th>\n",
              "      <th>SaltyScore</th>\n",
              "      <th>sentiment</th>\n",
              "    </tr>\n",
              "  </thead>\n",
              "  <tbody>\n",
              "    <tr>\n",
              "      <th>0</th>\n",
              "      <td>1118</td>\n",
              "      <td>23334754</td>\n",
              "      <td>Fuck em</td>\n",
              "      <td>rStar</td>\n",
              "      <td>23331287</td>\n",
              "      <td>False</td>\n",
              "      <td>0.778</td>\n",
              "      <td>negative</td>\n",
              "    </tr>\n",
              "    <tr>\n",
              "      <th>1</th>\n",
              "      <td>120</td>\n",
              "      <td>23338465</td>\n",
              "      <td>Not great, not terrible</td>\n",
              "      <td>laretluval</td>\n",
              "      <td>23334339</td>\n",
              "      <td>False</td>\n",
              "      <td>0.731</td>\n",
              "      <td>negative</td>\n",
              "    </tr>\n",
              "    <tr>\n",
              "      <th>2</th>\n",
              "      <td>1353</td>\n",
              "      <td>23320362</td>\n",
              "      <td>Risk aversion and capital?</td>\n",
              "      <td>eximius</td>\n",
              "      <td>23319848</td>\n",
              "      <td>False</td>\n",
              "      <td>0.714</td>\n",
              "      <td>negative</td>\n",
              "    </tr>\n",
              "    <tr>\n",
              "      <th>3</th>\n",
              "      <td>1265</td>\n",
              "      <td>23335878</td>\n",
              "      <td>AMP is a terrifying solution to an awful problem.</td>\n",
              "      <td>tobyhinloopen</td>\n",
              "      <td>23322730</td>\n",
              "      <td>False</td>\n",
              "      <td>0.599</td>\n",
              "      <td>negative</td>\n",
              "    </tr>\n",
              "    <tr>\n",
              "      <th>4</th>\n",
              "      <td>2595</td>\n",
              "      <td>23329336</td>\n",
              "      <td>launch aborted :(</td>\n",
              "      <td>tosh</td>\n",
              "      <td>23322948</td>\n",
              "      <td>False</td>\n",
              "      <td>0.592</td>\n",
              "      <td>negative</td>\n",
              "    </tr>\n",
              "  </tbody>\n",
              "</table>\n",
              "</div>"
            ],
            "text/plain": [
              "   Unnamed: 0  Comment_ID  ... SaltyScore sentiment\n",
              "0        1118    23334754  ...      0.778  negative\n",
              "1         120    23338465  ...      0.731  negative\n",
              "2        1353    23320362  ...      0.714  negative\n",
              "3        1265    23335878  ...      0.599  negative\n",
              "4        2595    23329336  ...      0.592  negative\n",
              "\n",
              "[5 rows x 8 columns]"
            ]
          },
          "metadata": {
            "tags": []
          },
          "execution_count": 332
        }
      ]
    },
    {
      "cell_type": "code",
      "metadata": {
        "id": "zj0fgwd7HxJp",
        "colab_type": "code",
        "outputId": "4635e2f9-bfd8-4385-8524-c2007752f799",
        "colab": {
          "base_uri": "https://localhost:8080/",
          "height": 87
        }
      },
      "source": [
        "#may need to adjust threshold\n",
        "\n",
        "df['sentiment'].value_counts()"
      ],
      "execution_count": 333,
      "outputs": [
        {
          "output_type": "execute_result",
          "data": {
            "text/plain": [
              "positive    1765\n",
              "negative     729\n",
              "neutral      568\n",
              "Name: sentiment, dtype: int64"
            ]
          },
          "metadata": {
            "tags": []
          },
          "execution_count": 333
        }
      ]
    },
    {
      "cell_type": "code",
      "metadata": {
        "id": "Ylp0PPel3aR_",
        "colab_type": "code",
        "colab": {}
      },
      "source": [
        "counter = Counter(df['sentiment'].tolist())\n",
        "sent_rank = {i[0]: idx for idx, i in enumerate(counter.most_common(3))}\n",
        "df = df[df['sentiment'].map(lambda x: x in sent_rank)]"
      ],
      "execution_count": 0,
      "outputs": []
    },
    {
      "cell_type": "code",
      "metadata": {
        "id": "02upEuqlRlxp",
        "colab_type": "code",
        "outputId": "72218105-1b47-4406-a6ec-e9f9908edce9",
        "colab": {
          "base_uri": "https://localhost:8080/",
          "height": 34
        }
      },
      "source": [
        "sent_rank"
      ],
      "execution_count": 335,
      "outputs": [
        {
          "output_type": "execute_result",
          "data": {
            "text/plain": [
              "{'negative': 1, 'neutral': 2, 'positive': 0}"
            ]
          },
          "metadata": {
            "tags": []
          },
          "execution_count": 335
        }
      ]
    },
    {
      "cell_type": "code",
      "metadata": {
        "id": "fiG9MFFe5rKW",
        "colab_type": "code",
        "colab": {}
      },
      "source": [
        "comment_list = df['Comment'].tolist()\n",
        "sent_list = [sent_rank[i] for i in df['sentiment'].tolist()]\n",
        "sent_list = np.array(sent_list)"
      ],
      "execution_count": 0,
      "outputs": []
    },
    {
      "cell_type": "code",
      "metadata": {
        "id": "AuqJsuChRaGS",
        "colab_type": "code",
        "outputId": "8fa4dc0b-bbaf-4b3d-8237-5f1d8c31b072",
        "colab": {
          "base_uri": "https://localhost:8080/",
          "height": 34
        }
      },
      "source": [
        "sent_list"
      ],
      "execution_count": 337,
      "outputs": [
        {
          "output_type": "execute_result",
          "data": {
            "text/plain": [
              "array([1, 1, 1, ..., 0, 0, 0])"
            ]
          },
          "metadata": {
            "tags": []
          },
          "execution_count": 337
        }
      ]
    },
    {
      "cell_type": "code",
      "metadata": {
        "id": "Bvv94HSM6i8I",
        "colab_type": "code",
        "colab": {}
      },
      "source": [
        "count_vect = CountVectorizer()\n",
        "x_train_counts = count_vect.fit_transform(comment_list)"
      ],
      "execution_count": 0,
      "outputs": []
    },
    {
      "cell_type": "code",
      "metadata": {
        "id": "dD5bS7RHN7w8",
        "colab_type": "code",
        "outputId": "62df9f93-168d-4ce6-a1eb-5c205b52b3b3",
        "colab": {
          "base_uri": "https://localhost:8080/",
          "height": 34
        }
      },
      "source": [
        "x_train_counts.shape"
      ],
      "execution_count": 339,
      "outputs": [
        {
          "output_type": "execute_result",
          "data": {
            "text/plain": [
              "(3062, 15376)"
            ]
          },
          "metadata": {
            "tags": []
          },
          "execution_count": 339
        }
      ]
    },
    {
      "cell_type": "code",
      "metadata": {
        "id": "9Gu9Ew9R67Ss",
        "colab_type": "code",
        "colab": {}
      },
      "source": [
        "tfidf_transformer = TfidfTransformer()\n",
        "x_train_tfidf = tfidf_transformer.fit_transform(x_train_counts)"
      ],
      "execution_count": 0,
      "outputs": []
    },
    {
      "cell_type": "code",
      "metadata": {
        "id": "jAuxS0J1QWu5",
        "colab_type": "code",
        "outputId": "c792296d-4dec-4a4d-b694-6cd01bead899",
        "colab": {
          "base_uri": "https://localhost:8080/",
          "height": 34
        }
      },
      "source": [
        "x_train_tfidf.shape"
      ],
      "execution_count": 341,
      "outputs": [
        {
          "output_type": "execute_result",
          "data": {
            "text/plain": [
              "(3062, 15376)"
            ]
          },
          "metadata": {
            "tags": []
          },
          "execution_count": 341
        }
      ]
    },
    {
      "cell_type": "code",
      "metadata": {
        "id": "tJhI7S-OOBqC",
        "colab_type": "code",
        "outputId": "001157b4-c84d-45ef-b798-b0b79c72cbd5",
        "colab": {
          "base_uri": "https://localhost:8080/",
          "height": 34
        }
      },
      "source": [
        "x_train_tfidf.shape"
      ],
      "execution_count": 342,
      "outputs": [
        {
          "output_type": "execute_result",
          "data": {
            "text/plain": [
              "(3062, 15376)"
            ]
          },
          "metadata": {
            "tags": []
          },
          "execution_count": 342
        }
      ]
    },
    {
      "cell_type": "code",
      "metadata": {
        "id": "7khNzeDlK3E4",
        "colab_type": "code",
        "outputId": "831c5cad-5775-4a76-b073-48ae0482fcb3",
        "colab": {
          "base_uri": "https://localhost:8080/",
          "height": 34
        }
      },
      "source": [
        "sent_list.shape, x_train_tfidf.shape"
      ],
      "execution_count": 343,
      "outputs": [
        {
          "output_type": "execute_result",
          "data": {
            "text/plain": [
              "((3062,), (3062, 15376))"
            ]
          },
          "metadata": {
            "tags": []
          },
          "execution_count": 343
        }
      ]
    },
    {
      "cell_type": "code",
      "metadata": {
        "id": "p1CvgRoOLVpD",
        "colab_type": "code",
        "colab": {}
      },
      "source": [
        "#x_train_tfidf = x_train_tfidf.reshape(x_train_tfidf.shape[1:])"
      ],
      "execution_count": 0,
      "outputs": []
    },
    {
      "cell_type": "code",
      "metadata": {
        "id": "cobGQAPS7Hik",
        "colab_type": "code",
        "colab": {}
      },
      "source": [
        "X_train, X_test, y_train, y_test = train_test_split(x_train_tfidf, sent_list, test_size=0.3, random_state=0)"
      ],
      "execution_count": 0,
      "outputs": []
    },
    {
      "cell_type": "code",
      "metadata": {
        "id": "ZexPldVFJGXD",
        "colab_type": "code",
        "outputId": "0ff8ec48-28c8-4b81-a7f6-9e6ac231dd06",
        "colab": {
          "base_uri": "https://localhost:8080/",
          "height": 34
        }
      },
      "source": [
        "df.shape"
      ],
      "execution_count": 346,
      "outputs": [
        {
          "output_type": "execute_result",
          "data": {
            "text/plain": [
              "(3062, 8)"
            ]
          },
          "metadata": {
            "tags": []
          },
          "execution_count": 346
        }
      ]
    },
    {
      "cell_type": "code",
      "metadata": {
        "id": "VeRVCsl57jmC",
        "colab_type": "code",
        "colab": {}
      },
      "source": [
        "clf = MultinomialNB().fit(X_train, y_train)"
      ],
      "execution_count": 0,
      "outputs": []
    },
    {
      "cell_type": "code",
      "metadata": {
        "id": "qJw1l8bL7wRi",
        "colab_type": "code",
        "colab": {}
      },
      "source": [
        "y_score = clf.predict(X_test)"
      ],
      "execution_count": 0,
      "outputs": []
    },
    {
      "cell_type": "code",
      "metadata": {
        "id": "PJ3mGW8b72lC",
        "colab_type": "code",
        "colab": {}
      },
      "source": [
        "n_right = 0\n",
        "for i in range(len(y_score)):\n",
        "  if y_score[i] == y_test[i]:\n",
        "    n_right += 1"
      ],
      "execution_count": 0,
      "outputs": []
    },
    {
      "cell_type": "code",
      "metadata": {
        "id": "eDh0ICx48I2y",
        "colab_type": "code",
        "colab": {}
      },
      "source": [
        "#Threshold .1 is the best accuracy so far.\n",
        "#Classes are imbalanced\n",
        "\n",
        "#print(\"Accuracy: %.2f%%\" % ((n_right/float(len(y_test)) * 100)))"
      ],
      "execution_count": 0,
      "outputs": []
    },
    {
      "cell_type": "code",
      "metadata": {
        "id": "nXPV9St-ccL0",
        "colab_type": "code",
        "colab": {}
      },
      "source": [
        "df_neg = df[df['sentiment']=='negative'].sample(500)\n"
      ],
      "execution_count": 0,
      "outputs": []
    },
    {
      "cell_type": "code",
      "metadata": {
        "id": "KcETm_8udIG0",
        "colab_type": "code",
        "colab": {}
      },
      "source": [
        "df_pos = df[df['sentiment']=='positive'].sample(500)"
      ],
      "execution_count": 0,
      "outputs": []
    },
    {
      "cell_type": "code",
      "metadata": {
        "id": "EhdXhDNLddDm",
        "colab_type": "code",
        "colab": {}
      },
      "source": [
        "df_neu = df[df['sentiment']=='neutral'].sample(500)"
      ],
      "execution_count": 0,
      "outputs": []
    },
    {
      "cell_type": "code",
      "metadata": {
        "id": "DIO5sLEId1SM",
        "colab_type": "code",
        "colab": {}
      },
      "source": [
        "frames = [df_pos, df_neg, df_neu]\n",
        "\n",
        "df_samp = pd.concat(frames)"
      ],
      "execution_count": 0,
      "outputs": []
    },
    {
      "cell_type": "code",
      "metadata": {
        "id": "fCbT1R6EeVqN",
        "colab_type": "code",
        "outputId": "57301482-0a00-4fce-9982-d6a7c82bf158",
        "colab": {
          "base_uri": "https://localhost:8080/",
          "height": 402
        }
      },
      "source": [
        "#balanced classes\n",
        "df_samp"
      ],
      "execution_count": 355,
      "outputs": [
        {
          "output_type": "execute_result",
          "data": {
            "text/html": [
              "<div>\n",
              "<style scoped>\n",
              "    .dataframe tbody tr th:only-of-type {\n",
              "        vertical-align: middle;\n",
              "    }\n",
              "\n",
              "    .dataframe tbody tr th {\n",
              "        vertical-align: top;\n",
              "    }\n",
              "\n",
              "    .dataframe thead th {\n",
              "        text-align: right;\n",
              "    }\n",
              "</style>\n",
              "<table border=\"1\" class=\"dataframe\">\n",
              "  <thead>\n",
              "    <tr style=\"text-align: right;\">\n",
              "      <th></th>\n",
              "      <th>Unnamed: 0</th>\n",
              "      <th>Comment_ID</th>\n",
              "      <th>Comment</th>\n",
              "      <th>UserName</th>\n",
              "      <th>StoryId</th>\n",
              "      <th>Deleted</th>\n",
              "      <th>SaltyScore</th>\n",
              "      <th>sentiment</th>\n",
              "    </tr>\n",
              "  </thead>\n",
              "  <tbody>\n",
              "    <tr>\n",
              "      <th>1471</th>\n",
              "      <td>443</td>\n",
              "      <td>23338486</td>\n",
              "      <td>The bigger issue right now is the total crater...</td>\n",
              "      <td>gexla</td>\n",
              "      <td>23337857</td>\n",
              "      <td>False</td>\n",
              "      <td>0.033</td>\n",
              "      <td>positive</td>\n",
              "    </tr>\n",
              "    <tr>\n",
              "      <th>1334</th>\n",
              "      <td>2703</td>\n",
              "      <td>23334549</td>\n",
              "      <td>Any virtual environment will take precedence o...</td>\n",
              "      <td>joshvm</td>\n",
              "      <td>23331698</td>\n",
              "      <td>False</td>\n",
              "      <td>0.044</td>\n",
              "      <td>positive</td>\n",
              "    </tr>\n",
              "    <tr>\n",
              "      <th>1658</th>\n",
              "      <td>434</td>\n",
              "      <td>23338897</td>\n",
              "      <td>&amp;gt; Now, you can either hire someone from San...</td>\n",
              "      <td>bachmeier</td>\n",
              "      <td>23337857</td>\n",
              "      <td>False</td>\n",
              "      <td>0.017</td>\n",
              "      <td>positive</td>\n",
              "    </tr>\n",
              "    <tr>\n",
              "      <th>1524</th>\n",
              "      <td>1560</td>\n",
              "      <td>23333515</td>\n",
              "      <td>One approach I like for this sort of thing is ...</td>\n",
              "      <td>jakear</td>\n",
              "      <td>23331499</td>\n",
              "      <td>False</td>\n",
              "      <td>0.029</td>\n",
              "      <td>positive</td>\n",
              "    </tr>\n",
              "    <tr>\n",
              "      <th>2501</th>\n",
              "      <td>649</td>\n",
              "      <td>23338306</td>\n",
              "      <td>Text editors as display engines in not entirel...</td>\n",
              "      <td>acomjean</td>\n",
              "      <td>23334898</td>\n",
              "      <td>False</td>\n",
              "      <td>0.000</td>\n",
              "      <td>positive</td>\n",
              "    </tr>\n",
              "    <tr>\n",
              "      <th>...</th>\n",
              "      <td>...</td>\n",
              "      <td>...</td>\n",
              "      <td>...</td>\n",
              "      <td>...</td>\n",
              "      <td>...</td>\n",
              "      <td>...</td>\n",
              "      <td>...</td>\n",
              "      <td>...</td>\n",
              "    </tr>\n",
              "    <tr>\n",
              "      <th>629</th>\n",
              "      <td>1091</td>\n",
              "      <td>23336682</td>\n",
              "      <td>Posts critical of Microsft usually draw a set ...</td>\n",
              "      <td>pwdisswordfish2</td>\n",
              "      <td>23331287</td>\n",
              "      <td>False</td>\n",
              "      <td>0.102</td>\n",
              "      <td>neutral</td>\n",
              "    </tr>\n",
              "    <tr>\n",
              "      <th>1147</th>\n",
              "      <td>1432</td>\n",
              "      <td>23324501</td>\n",
              "      <td>I have had so many bad experiences with instac...</td>\n",
              "      <td>monadic2</td>\n",
              "      <td>23324147</td>\n",
              "      <td>False</td>\n",
              "      <td>0.055</td>\n",
              "      <td>neutral</td>\n",
              "    </tr>\n",
              "    <tr>\n",
              "      <th>1733</th>\n",
              "      <td>2390</td>\n",
              "      <td>23332105</td>\n",
              "      <td>Twitter must have automation for this, since t...</td>\n",
              "      <td>Animats</td>\n",
              "      <td>23322112</td>\n",
              "      <td>False</td>\n",
              "      <td>0.000</td>\n",
              "      <td>neutral</td>\n",
              "    </tr>\n",
              "    <tr>\n",
              "      <th>1863</th>\n",
              "      <td>3275</td>\n",
              "      <td>23330595</td>\n",
              "      <td>Comments moved to &lt;a href=\"https:&amp;#x2F;&amp;#x2F;n...</td>\n",
              "      <td>dang</td>\n",
              "      <td>23329515</td>\n",
              "      <td>False</td>\n",
              "      <td>0.000</td>\n",
              "      <td>neutral</td>\n",
              "    </tr>\n",
              "    <tr>\n",
              "      <th>2500</th>\n",
              "      <td>552</td>\n",
              "      <td>23340557</td>\n",
              "      <td>Is this one of those “we can’t donate food we ...</td>\n",
              "      <td>travisporter</td>\n",
              "      <td>23339471</td>\n",
              "      <td>False</td>\n",
              "      <td>0.000</td>\n",
              "      <td>neutral</td>\n",
              "    </tr>\n",
              "  </tbody>\n",
              "</table>\n",
              "<p>1500 rows × 8 columns</p>\n",
              "</div>"
            ],
            "text/plain": [
              "      Unnamed: 0  Comment_ID  ... SaltyScore sentiment\n",
              "1471         443    23338486  ...      0.033  positive\n",
              "1334        2703    23334549  ...      0.044  positive\n",
              "1658         434    23338897  ...      0.017  positive\n",
              "1524        1560    23333515  ...      0.029  positive\n",
              "2501         649    23338306  ...      0.000  positive\n",
              "...          ...         ...  ...        ...       ...\n",
              "629         1091    23336682  ...      0.102   neutral\n",
              "1147        1432    23324501  ...      0.055   neutral\n",
              "1733        2390    23332105  ...      0.000   neutral\n",
              "1863        3275    23330595  ...      0.000   neutral\n",
              "2500         552    23340557  ...      0.000   neutral\n",
              "\n",
              "[1500 rows x 8 columns]"
            ]
          },
          "metadata": {
            "tags": []
          },
          "execution_count": 355
        }
      ]
    },
    {
      "cell_type": "code",
      "metadata": {
        "id": "04YwJkwceWte",
        "colab_type": "code",
        "colab": {}
      },
      "source": [
        "#analyze new df\n",
        "df_samp['sentiment'] = df_samp['Comment'].apply(analyze_sentiment_vader_lexicon)"
      ],
      "execution_count": 0,
      "outputs": []
    },
    {
      "cell_type": "code",
      "metadata": {
        "id": "sPD0Bei7es9P",
        "colab_type": "code",
        "colab": {}
      },
      "source": [
        "counter = Counter(df_samp['sentiment'].tolist())\n",
        "sent_rank = {i[0]: idx for idx, i in enumerate(counter.most_common(3))}\n",
        "df_samp = df_samp[df_samp['sentiment'].map(lambda x: x in sent_rank)]"
      ],
      "execution_count": 0,
      "outputs": []
    },
    {
      "cell_type": "code",
      "metadata": {
        "id": "rqRng_Qse0B-",
        "colab_type": "code",
        "colab": {}
      },
      "source": [
        "comment_list = df_samp['Comment'].tolist()\n",
        "sent_list = [sent_rank[i] for i in df_samp['sentiment'].tolist()]\n",
        "sent_list = np.array(sent_list)"
      ],
      "execution_count": 0,
      "outputs": []
    },
    {
      "cell_type": "code",
      "metadata": {
        "id": "DBVqBWune5_X",
        "colab_type": "code",
        "colab": {}
      },
      "source": [
        "count_vect = CountVectorizer()\n",
        "x_train_counts = count_vect.fit_transform(comment_list)"
      ],
      "execution_count": 0,
      "outputs": []
    },
    {
      "cell_type": "code",
      "metadata": {
        "id": "m0rXHT7-e9XX",
        "colab_type": "code",
        "colab": {}
      },
      "source": [
        "tfidf_transformer = TfidfTransformer()\n",
        "x_train_tfidf = tfidf_transformer.fit_transform(x_train_counts)"
      ],
      "execution_count": 0,
      "outputs": []
    },
    {
      "cell_type": "code",
      "metadata": {
        "id": "jL_kDEcffBZm",
        "colab_type": "code",
        "colab": {}
      },
      "source": [
        "X_train, X_test, y_train, y_test = train_test_split(x_train_tfidf, sent_list, test_size=0.3, random_state=0)"
      ],
      "execution_count": 0,
      "outputs": []
    },
    {
      "cell_type": "code",
      "metadata": {
        "id": "GMFIi1rrfEKd",
        "colab_type": "code",
        "colab": {}
      },
      "source": [
        "clf = MultinomialNB().fit(X_train, y_train)"
      ],
      "execution_count": 0,
      "outputs": []
    },
    {
      "cell_type": "code",
      "metadata": {
        "id": "pUXyxBCEfIgq",
        "colab_type": "code",
        "colab": {}
      },
      "source": [
        "y_score = clf.predict(X_test)"
      ],
      "execution_count": 0,
      "outputs": []
    },
    {
      "cell_type": "code",
      "metadata": {
        "id": "Y88lLfwgfKvc",
        "colab_type": "code",
        "colab": {}
      },
      "source": [
        "n_right = 0\n",
        "for i in range(len(y_score)):\n",
        "  if y_score[i] == y_test[i]:\n",
        "    n_right += 1"
      ],
      "execution_count": 0,
      "outputs": []
    },
    {
      "cell_type": "code",
      "metadata": {
        "id": "se0H7QWMfOT9",
        "colab_type": "code",
        "outputId": "9ff06143-8391-425d-b080-4873c3ee7322",
        "colab": {
          "base_uri": "https://localhost:8080/",
          "height": 34
        }
      },
      "source": [
        "#That didn't help at all\n",
        "\n",
        "print(\"Accuracy: %.2f%%\" % ((n_right/float(len(y_test)) * 100)))"
      ],
      "execution_count": 365,
      "outputs": [
        {
          "output_type": "stream",
          "text": [
            "Accuracy: 48.44%\n"
          ],
          "name": "stdout"
        }
      ]
    },
    {
      "cell_type": "code",
      "metadata": {
        "id": "QNwf6y2oh5pn",
        "colab_type": "code",
        "colab": {}
      },
      "source": [
        "#Convert Salty to int for classification\n",
        "df['SaltyScore'] = df['SaltyScore'] *100\n",
        "df['SaltyScore'] = df['SaltyScore'].astype(int)"
      ],
      "execution_count": 0,
      "outputs": []
    },
    {
      "cell_type": "code",
      "metadata": {
        "id": "YZwmNMMYf47e",
        "colab_type": "code",
        "colab": {}
      },
      "source": [
        "#going to bin salty score values\n",
        "\n",
        "cut_labels = ['pos', 'neu', 'neg']\n",
        "cut_bins = [0, 33, 67, 100]\n",
        "df['bin'] = pd.cut(df['SaltyScore'], bins=cut_bins, labels=cut_labels)"
      ],
      "execution_count": 0,
      "outputs": []
    },
    {
      "cell_type": "code",
      "metadata": {
        "id": "Nc4KD2uejSxU",
        "colab_type": "code",
        "outputId": "180748a8-53c6-46d8-b5a9-395eaf032cd2",
        "colab": {
          "base_uri": "https://localhost:8080/",
          "height": 402
        }
      },
      "source": [
        "df"
      ],
      "execution_count": 368,
      "outputs": [
        {
          "output_type": "execute_result",
          "data": {
            "text/html": [
              "<div>\n",
              "<style scoped>\n",
              "    .dataframe tbody tr th:only-of-type {\n",
              "        vertical-align: middle;\n",
              "    }\n",
              "\n",
              "    .dataframe tbody tr th {\n",
              "        vertical-align: top;\n",
              "    }\n",
              "\n",
              "    .dataframe thead th {\n",
              "        text-align: right;\n",
              "    }\n",
              "</style>\n",
              "<table border=\"1\" class=\"dataframe\">\n",
              "  <thead>\n",
              "    <tr style=\"text-align: right;\">\n",
              "      <th></th>\n",
              "      <th>Unnamed: 0</th>\n",
              "      <th>Comment_ID</th>\n",
              "      <th>Comment</th>\n",
              "      <th>UserName</th>\n",
              "      <th>StoryId</th>\n",
              "      <th>Deleted</th>\n",
              "      <th>SaltyScore</th>\n",
              "      <th>sentiment</th>\n",
              "      <th>bin</th>\n",
              "    </tr>\n",
              "  </thead>\n",
              "  <tbody>\n",
              "    <tr>\n",
              "      <th>0</th>\n",
              "      <td>1118</td>\n",
              "      <td>23334754</td>\n",
              "      <td>Fuck em</td>\n",
              "      <td>rStar</td>\n",
              "      <td>23331287</td>\n",
              "      <td>False</td>\n",
              "      <td>77</td>\n",
              "      <td>negative</td>\n",
              "      <td>neg</td>\n",
              "    </tr>\n",
              "    <tr>\n",
              "      <th>1</th>\n",
              "      <td>120</td>\n",
              "      <td>23338465</td>\n",
              "      <td>Not great, not terrible</td>\n",
              "      <td>laretluval</td>\n",
              "      <td>23334339</td>\n",
              "      <td>False</td>\n",
              "      <td>73</td>\n",
              "      <td>negative</td>\n",
              "      <td>neg</td>\n",
              "    </tr>\n",
              "    <tr>\n",
              "      <th>2</th>\n",
              "      <td>1353</td>\n",
              "      <td>23320362</td>\n",
              "      <td>Risk aversion and capital?</td>\n",
              "      <td>eximius</td>\n",
              "      <td>23319848</td>\n",
              "      <td>False</td>\n",
              "      <td>71</td>\n",
              "      <td>negative</td>\n",
              "      <td>neg</td>\n",
              "    </tr>\n",
              "    <tr>\n",
              "      <th>3</th>\n",
              "      <td>1265</td>\n",
              "      <td>23335878</td>\n",
              "      <td>AMP is a terrifying solution to an awful problem.</td>\n",
              "      <td>tobyhinloopen</td>\n",
              "      <td>23322730</td>\n",
              "      <td>False</td>\n",
              "      <td>59</td>\n",
              "      <td>negative</td>\n",
              "      <td>neu</td>\n",
              "    </tr>\n",
              "    <tr>\n",
              "      <th>4</th>\n",
              "      <td>2595</td>\n",
              "      <td>23329336</td>\n",
              "      <td>launch aborted :(</td>\n",
              "      <td>tosh</td>\n",
              "      <td>23322948</td>\n",
              "      <td>False</td>\n",
              "      <td>59</td>\n",
              "      <td>negative</td>\n",
              "      <td>neu</td>\n",
              "    </tr>\n",
              "    <tr>\n",
              "      <th>...</th>\n",
              "      <td>...</td>\n",
              "      <td>...</td>\n",
              "      <td>...</td>\n",
              "      <td>...</td>\n",
              "      <td>...</td>\n",
              "      <td>...</td>\n",
              "      <td>...</td>\n",
              "      <td>...</td>\n",
              "      <td>...</td>\n",
              "    </tr>\n",
              "    <tr>\n",
              "      <th>3057</th>\n",
              "      <td>1722</td>\n",
              "      <td>23338836</td>\n",
              "      <td>I’m strongly thinking of just migrating to Ubu...</td>\n",
              "      <td>samgranieri</td>\n",
              "      <td>23336255</td>\n",
              "      <td>False</td>\n",
              "      <td>0</td>\n",
              "      <td>positive</td>\n",
              "      <td>NaN</td>\n",
              "    </tr>\n",
              "    <tr>\n",
              "      <th>3058</th>\n",
              "      <td>1720</td>\n",
              "      <td>23337471</td>\n",
              "      <td>Proper ARM SBCL with threads yay</td>\n",
              "      <td>ivan4th</td>\n",
              "      <td>23336255</td>\n",
              "      <td>False</td>\n",
              "      <td>0</td>\n",
              "      <td>positive</td>\n",
              "      <td>NaN</td>\n",
              "    </tr>\n",
              "    <tr>\n",
              "      <th>3059</th>\n",
              "      <td>1719</td>\n",
              "      <td>23336865</td>\n",
              "      <td>Finally! Does this mean ArchLinuxARM (ALARM) w...</td>\n",
              "      <td>qalmakka</td>\n",
              "      <td>23336255</td>\n",
              "      <td>False</td>\n",
              "      <td>0</td>\n",
              "      <td>positive</td>\n",
              "      <td>NaN</td>\n",
              "    </tr>\n",
              "    <tr>\n",
              "      <th>3060</th>\n",
              "      <td>1718</td>\n",
              "      <td>23338715</td>\n",
              "      <td>Is there a noticeable performance benefit with...</td>\n",
              "      <td>mgamache</td>\n",
              "      <td>23336255</td>\n",
              "      <td>False</td>\n",
              "      <td>0</td>\n",
              "      <td>positive</td>\n",
              "      <td>NaN</td>\n",
              "    </tr>\n",
              "    <tr>\n",
              "      <th>3061</th>\n",
              "      <td>0</td>\n",
              "      <td>23341390</td>\n",
              "      <td>&amp;gt; Java 8 language support update: APIs you ...</td>\n",
              "      <td>pjmlp</td>\n",
              "      <td>23340887</td>\n",
              "      <td>False</td>\n",
              "      <td>0</td>\n",
              "      <td>positive</td>\n",
              "      <td>NaN</td>\n",
              "    </tr>\n",
              "  </tbody>\n",
              "</table>\n",
              "<p>3062 rows × 9 columns</p>\n",
              "</div>"
            ],
            "text/plain": [
              "      Unnamed: 0  Comment_ID  ... sentiment  bin\n",
              "0           1118    23334754  ...  negative  neg\n",
              "1            120    23338465  ...  negative  neg\n",
              "2           1353    23320362  ...  negative  neg\n",
              "3           1265    23335878  ...  negative  neu\n",
              "4           2595    23329336  ...  negative  neu\n",
              "...          ...         ...  ...       ...  ...\n",
              "3057        1722    23338836  ...  positive  NaN\n",
              "3058        1720    23337471  ...  positive  NaN\n",
              "3059        1719    23336865  ...  positive  NaN\n",
              "3060        1718    23338715  ...  positive  NaN\n",
              "3061           0    23341390  ...  positive  NaN\n",
              "\n",
              "[3062 rows x 9 columns]"
            ]
          },
          "metadata": {
            "tags": []
          },
          "execution_count": 368
        }
      ]
    },
    {
      "cell_type": "code",
      "metadata": {
        "id": "z6f81IPCheiC",
        "colab_type": "code",
        "colab": {}
      },
      "source": [
        "df['bin'] = df['bin'].fillna('neg')"
      ],
      "execution_count": 0,
      "outputs": []
    },
    {
      "cell_type": "code",
      "metadata": {
        "id": "0qyCnVn-kEJd",
        "colab_type": "code",
        "colab": {}
      },
      "source": [
        "df['bin'] = df['Comment'].apply(analyze_sentiment_vader_lexicon)"
      ],
      "execution_count": 0,
      "outputs": []
    },
    {
      "cell_type": "code",
      "metadata": {
        "id": "tbbbmmAdJ2ua",
        "colab_type": "code",
        "colab": {}
      },
      "source": [
        "#df = pd.DataFrame.drop(df, columns=['sentiment','SaltyScore','Deleted', 'StoryId', 'Unnamed: 0', 'Comment_ID'])\n",
        "df = pd.DataFrame.drop(df, columns=['SaltyScore','Deleted', 'StoryId', 'Unnamed: 0', 'Comment_ID'])"
      ],
      "execution_count": 0,
      "outputs": []
    },
    {
      "cell_type": "code",
      "metadata": {
        "id": "zcSlPo7eKWW5",
        "colab_type": "code",
        "outputId": "a2f02c56-96f0-47d1-e827-16b5719ef28f",
        "colab": {
          "base_uri": "https://localhost:8080/",
          "height": 402
        }
      },
      "source": [
        "df"
      ],
      "execution_count": 372,
      "outputs": [
        {
          "output_type": "execute_result",
          "data": {
            "text/html": [
              "<div>\n",
              "<style scoped>\n",
              "    .dataframe tbody tr th:only-of-type {\n",
              "        vertical-align: middle;\n",
              "    }\n",
              "\n",
              "    .dataframe tbody tr th {\n",
              "        vertical-align: top;\n",
              "    }\n",
              "\n",
              "    .dataframe thead th {\n",
              "        text-align: right;\n",
              "    }\n",
              "</style>\n",
              "<table border=\"1\" class=\"dataframe\">\n",
              "  <thead>\n",
              "    <tr style=\"text-align: right;\">\n",
              "      <th></th>\n",
              "      <th>Comment</th>\n",
              "      <th>UserName</th>\n",
              "      <th>sentiment</th>\n",
              "      <th>bin</th>\n",
              "    </tr>\n",
              "  </thead>\n",
              "  <tbody>\n",
              "    <tr>\n",
              "      <th>0</th>\n",
              "      <td>Fuck em</td>\n",
              "      <td>rStar</td>\n",
              "      <td>negative</td>\n",
              "      <td>negative</td>\n",
              "    </tr>\n",
              "    <tr>\n",
              "      <th>1</th>\n",
              "      <td>Not great, not terrible</td>\n",
              "      <td>laretluval</td>\n",
              "      <td>negative</td>\n",
              "      <td>negative</td>\n",
              "    </tr>\n",
              "    <tr>\n",
              "      <th>2</th>\n",
              "      <td>Risk aversion and capital?</td>\n",
              "      <td>eximius</td>\n",
              "      <td>negative</td>\n",
              "      <td>negative</td>\n",
              "    </tr>\n",
              "    <tr>\n",
              "      <th>3</th>\n",
              "      <td>AMP is a terrifying solution to an awful problem.</td>\n",
              "      <td>tobyhinloopen</td>\n",
              "      <td>negative</td>\n",
              "      <td>negative</td>\n",
              "    </tr>\n",
              "    <tr>\n",
              "      <th>4</th>\n",
              "      <td>launch aborted :(</td>\n",
              "      <td>tosh</td>\n",
              "      <td>negative</td>\n",
              "      <td>negative</td>\n",
              "    </tr>\n",
              "    <tr>\n",
              "      <th>...</th>\n",
              "      <td>...</td>\n",
              "      <td>...</td>\n",
              "      <td>...</td>\n",
              "      <td>...</td>\n",
              "    </tr>\n",
              "    <tr>\n",
              "      <th>3057</th>\n",
              "      <td>I’m strongly thinking of just migrating to Ubu...</td>\n",
              "      <td>samgranieri</td>\n",
              "      <td>positive</td>\n",
              "      <td>positive</td>\n",
              "    </tr>\n",
              "    <tr>\n",
              "      <th>3058</th>\n",
              "      <td>Proper ARM SBCL with threads yay</td>\n",
              "      <td>ivan4th</td>\n",
              "      <td>positive</td>\n",
              "      <td>positive</td>\n",
              "    </tr>\n",
              "    <tr>\n",
              "      <th>3059</th>\n",
              "      <td>Finally! Does this mean ArchLinuxARM (ALARM) w...</td>\n",
              "      <td>qalmakka</td>\n",
              "      <td>positive</td>\n",
              "      <td>positive</td>\n",
              "    </tr>\n",
              "    <tr>\n",
              "      <th>3060</th>\n",
              "      <td>Is there a noticeable performance benefit with...</td>\n",
              "      <td>mgamache</td>\n",
              "      <td>positive</td>\n",
              "      <td>positive</td>\n",
              "    </tr>\n",
              "    <tr>\n",
              "      <th>3061</th>\n",
              "      <td>&amp;gt; Java 8 language support update: APIs you ...</td>\n",
              "      <td>pjmlp</td>\n",
              "      <td>positive</td>\n",
              "      <td>positive</td>\n",
              "    </tr>\n",
              "  </tbody>\n",
              "</table>\n",
              "<p>3062 rows × 4 columns</p>\n",
              "</div>"
            ],
            "text/plain": [
              "                                                Comment  ...       bin\n",
              "0                                               Fuck em  ...  negative\n",
              "1                               Not great, not terrible  ...  negative\n",
              "2                            Risk aversion and capital?  ...  negative\n",
              "3     AMP is a terrifying solution to an awful problem.  ...  negative\n",
              "4                                     launch aborted :(  ...  negative\n",
              "...                                                 ...  ...       ...\n",
              "3057  I’m strongly thinking of just migrating to Ubu...  ...  positive\n",
              "3058                   Proper ARM SBCL with threads yay  ...  positive\n",
              "3059  Finally! Does this mean ArchLinuxARM (ALARM) w...  ...  positive\n",
              "3060  Is there a noticeable performance benefit with...  ...  positive\n",
              "3061  &gt; Java 8 language support update: APIs you ...  ...  positive\n",
              "\n",
              "[3062 rows x 4 columns]"
            ]
          },
          "metadata": {
            "tags": []
          },
          "execution_count": 372
        }
      ]
    },
    {
      "cell_type": "code",
      "metadata": {
        "id": "yMSE3rOljdVc",
        "colab_type": "code",
        "colab": {}
      },
      "source": [
        "counter = Counter(df['bin'].tolist())\n",
        "salt_rank = {i[0]: idx for idx, i in enumerate(counter.most_common(3))}\n",
        "df = df[df['bin'].map(lambda x: x in salt_rank)]"
      ],
      "execution_count": 0,
      "outputs": []
    },
    {
      "cell_type": "code",
      "metadata": {
        "id": "p-qTjyF2jm9u",
        "colab_type": "code",
        "colab": {}
      },
      "source": [
        "comment_list = df['bin'].tolist()\n",
        "salt_list = [salt_rank[i] for i in df['bin'].tolist()]\n",
        "salt_list = np.array(salt_list)"
      ],
      "execution_count": 0,
      "outputs": []
    },
    {
      "cell_type": "code",
      "metadata": {
        "id": "yuU8-T46j9lW",
        "colab_type": "code",
        "colab": {}
      },
      "source": [
        "count_vect = CountVectorizer()\n",
        "x_train_counts = count_vect.fit_transform(comment_list)"
      ],
      "execution_count": 0,
      "outputs": []
    },
    {
      "cell_type": "code",
      "metadata": {
        "id": "Jf9MhohakN5P",
        "colab_type": "code",
        "colab": {}
      },
      "source": [
        "tfidf_transformer = TfidfTransformer()\n",
        "x_train_tfidf = tfidf_transformer.fit_transform(x_train_counts)"
      ],
      "execution_count": 0,
      "outputs": []
    },
    {
      "cell_type": "code",
      "metadata": {
        "id": "s-7wLcTdkQGC",
        "colab_type": "code",
        "colab": {}
      },
      "source": [
        "X_train, X_test, y_train, y_test = train_test_split(x_train_tfidf, salt_list, test_size=0.3, random_state=0)"
      ],
      "execution_count": 0,
      "outputs": []
    },
    {
      "cell_type": "code",
      "metadata": {
        "id": "Dg5jNIH-kSd7",
        "colab_type": "code",
        "colab": {}
      },
      "source": [
        "clf = MultinomialNB().fit(X_train, y_train)"
      ],
      "execution_count": 0,
      "outputs": []
    },
    {
      "cell_type": "code",
      "metadata": {
        "id": "MbTjM8cSkUqt",
        "colab_type": "code",
        "colab": {}
      },
      "source": [
        "y_score = clf.predict(X_test)"
      ],
      "execution_count": 0,
      "outputs": []
    },
    {
      "cell_type": "code",
      "metadata": {
        "id": "JfmwY-BpkW9z",
        "colab_type": "code",
        "colab": {}
      },
      "source": [
        "n_right = 0\n",
        "for i in range(len(y_score)):\n",
        "  if y_score[i] == y_test[i]:\n",
        "    n_right += 1"
      ],
      "execution_count": 0,
      "outputs": []
    },
    {
      "cell_type": "code",
      "metadata": {
        "id": "Sru11VS1kZ4w",
        "colab_type": "code",
        "outputId": "48c9bfc0-5bc0-42db-a152-8ca0bd2a20ae",
        "colab": {
          "base_uri": "https://localhost:8080/",
          "height": 34
        }
      },
      "source": [
        "#probably overfit\n",
        "\n",
        "print(\"Accuracy: %.2f%%\" % ((n_right/float(len(y_test)) * 100)))"
      ],
      "execution_count": 381,
      "outputs": [
        {
          "output_type": "stream",
          "text": [
            "Accuracy: 100.00%\n"
          ],
          "name": "stdout"
        }
      ]
    },
    {
      "cell_type": "code",
      "metadata": {
        "id": "qKHrlCzPMOpc",
        "colab_type": "code",
        "colab": {}
      },
      "source": [
        "#Experiment with deep learning model\n",
        "\n",
        "from nltk import word_tokenize\n",
        "from collections import defaultdict"
      ],
      "execution_count": 0,
      "outputs": []
    },
    {
      "cell_type": "code",
      "metadata": {
        "id": "AkHhnHOBVwIM",
        "colab_type": "code",
        "outputId": "1f32defe-1181-4624-c9ce-9b75eb924407",
        "colab": {
          "base_uri": "https://localhost:8080/",
          "height": 70
        }
      },
      "source": [
        "nltk.download('punkt')"
      ],
      "execution_count": 383,
      "outputs": [
        {
          "output_type": "stream",
          "text": [
            "[nltk_data] Downloading package punkt to /root/nltk_data...\n",
            "[nltk_data]   Package punkt is already up-to-date!\n"
          ],
          "name": "stdout"
        },
        {
          "output_type": "execute_result",
          "data": {
            "text/plain": [
              "True"
            ]
          },
          "metadata": {
            "tags": []
          },
          "execution_count": 383
        }
      ]
    },
    {
      "cell_type": "code",
      "metadata": {
        "id": "epuNC45IMZxS",
        "colab_type": "code",
        "colab": {}
      },
      "source": [
        "def count_top_x_words(corpus, top_x, skip_top_n):\n",
        "  count = defaultdict(lambda: 0)\n",
        "  for c in corpus:\n",
        "    for w in word_tokenize(c):\n",
        "      count[w] += 1\n",
        "  count_tuples = sorted([(w,c) for w, c in count.items()], key=lambda x: x[1], reverse=True)\n",
        "  return [i[0] for i in count_tuples[skip_top_n: skip_top_n + top_x]]"
      ],
      "execution_count": 0,
      "outputs": []
    },
    {
      "cell_type": "code",
      "metadata": {
        "id": "s7NBd68FM9Ob",
        "colab_type": "code",
        "colab": {}
      },
      "source": [
        "def replace_top_x_words_with_vectors(corpus, top_x):\n",
        "  topx_dict = {top_x[i]: i for i in range(len(top_x))}\n",
        "  return [\n",
        "          [topx_dict[w] for w in word_tokenize(s) if w in topx_dict]\n",
        "          for s in corpus\n",
        "  ], topx_dict"
      ],
      "execution_count": 0,
      "outputs": []
    },
    {
      "cell_type": "code",
      "metadata": {
        "id": "l1FCY_52NvFX",
        "colab_type": "code",
        "colab": {}
      },
      "source": [
        "def filter_to_top_x(corpus, n_top, skip_top_n=0):\n",
        "  top_x = count_top_x_words(corpus, n_top, skip_top_n)\n",
        "  return replace_top_x_words_with_vectors(corpus, top_x)"
      ],
      "execution_count": 0,
      "outputs": []
    },
    {
      "cell_type": "code",
      "metadata": {
        "id": "pL5lRHOiO_Ro",
        "colab_type": "code",
        "outputId": "12f65349-6beb-4ee6-904a-8ab420db79ca",
        "colab": {
          "base_uri": "https://localhost:8080/",
          "height": 34
        }
      },
      "source": [
        "!pip install lib"
      ],
      "execution_count": 387,
      "outputs": [
        {
          "output_type": "stream",
          "text": [
            "Requirement already satisfied: lib in /usr/local/lib/python3.6/dist-packages (3.0.0)\n"
          ],
          "name": "stdout"
        }
      ]
    },
    {
      "cell_type": "code",
      "metadata": {
        "id": "sXxJiU_mORN5",
        "colab_type": "code",
        "colab": {}
      },
      "source": [
        "from keras.models import Sequential\n",
        "from keras.layers import Dense, Conv1D, Flatten\n",
        "from keras.layers.embeddings import Embedding\n",
        "from keras.preprocessing import sequence\n",
        "from keras.utils import to_categorical\n",
        "import pandas as pd\n",
        "from collections import Counter\n",
        "import lib"
      ],
      "execution_count": 0,
      "outputs": []
    },
    {
      "cell_type": "code",
      "metadata": {
        "id": "zV8MGEilQ5iw",
        "colab_type": "code",
        "colab": {}
      },
      "source": [
        "#Using the Hackernews dataset\n",
        "\n",
        "df = pd.read_csv('/content/Final_Salty.csv')"
      ],
      "execution_count": 0,
      "outputs": []
    },
    {
      "cell_type": "code",
      "metadata": {
        "id": "7WoPuD14Q6u6",
        "colab_type": "code",
        "outputId": "4dd218db-b57e-47bf-c6db-1a1804d647b4",
        "colab": {
          "base_uri": "https://localhost:8080/",
          "height": 402
        }
      },
      "source": [
        "df"
      ],
      "execution_count": 390,
      "outputs": [
        {
          "output_type": "execute_result",
          "data": {
            "text/html": [
              "<div>\n",
              "<style scoped>\n",
              "    .dataframe tbody tr th:only-of-type {\n",
              "        vertical-align: middle;\n",
              "    }\n",
              "\n",
              "    .dataframe tbody tr th {\n",
              "        vertical-align: top;\n",
              "    }\n",
              "\n",
              "    .dataframe thead th {\n",
              "        text-align: right;\n",
              "    }\n",
              "</style>\n",
              "<table border=\"1\" class=\"dataframe\">\n",
              "  <thead>\n",
              "    <tr style=\"text-align: right;\">\n",
              "      <th></th>\n",
              "      <th>Unnamed: 0</th>\n",
              "      <th>Comment_ID</th>\n",
              "      <th>Comment</th>\n",
              "      <th>UserName</th>\n",
              "      <th>StoryId</th>\n",
              "      <th>Deleted</th>\n",
              "      <th>SaltyScore</th>\n",
              "    </tr>\n",
              "  </thead>\n",
              "  <tbody>\n",
              "    <tr>\n",
              "      <th>0</th>\n",
              "      <td>1118</td>\n",
              "      <td>23334754</td>\n",
              "      <td>Fuck em</td>\n",
              "      <td>rStar</td>\n",
              "      <td>23331287</td>\n",
              "      <td>False</td>\n",
              "      <td>0.778</td>\n",
              "    </tr>\n",
              "    <tr>\n",
              "      <th>1</th>\n",
              "      <td>120</td>\n",
              "      <td>23338465</td>\n",
              "      <td>Not great, not terrible</td>\n",
              "      <td>laretluval</td>\n",
              "      <td>23334339</td>\n",
              "      <td>False</td>\n",
              "      <td>0.731</td>\n",
              "    </tr>\n",
              "    <tr>\n",
              "      <th>2</th>\n",
              "      <td>1353</td>\n",
              "      <td>23320362</td>\n",
              "      <td>Risk aversion and capital?</td>\n",
              "      <td>eximius</td>\n",
              "      <td>23319848</td>\n",
              "      <td>False</td>\n",
              "      <td>0.714</td>\n",
              "    </tr>\n",
              "    <tr>\n",
              "      <th>3</th>\n",
              "      <td>1265</td>\n",
              "      <td>23335878</td>\n",
              "      <td>AMP is a terrifying solution to an awful problem.</td>\n",
              "      <td>tobyhinloopen</td>\n",
              "      <td>23322730</td>\n",
              "      <td>False</td>\n",
              "      <td>0.599</td>\n",
              "    </tr>\n",
              "    <tr>\n",
              "      <th>4</th>\n",
              "      <td>2595</td>\n",
              "      <td>23329336</td>\n",
              "      <td>launch aborted :(</td>\n",
              "      <td>tosh</td>\n",
              "      <td>23322948</td>\n",
              "      <td>False</td>\n",
              "      <td>0.592</td>\n",
              "    </tr>\n",
              "    <tr>\n",
              "      <th>...</th>\n",
              "      <td>...</td>\n",
              "      <td>...</td>\n",
              "      <td>...</td>\n",
              "      <td>...</td>\n",
              "      <td>...</td>\n",
              "      <td>...</td>\n",
              "      <td>...</td>\n",
              "    </tr>\n",
              "    <tr>\n",
              "      <th>3057</th>\n",
              "      <td>1722</td>\n",
              "      <td>23338836</td>\n",
              "      <td>I’m strongly thinking of just migrating to Ubu...</td>\n",
              "      <td>samgranieri</td>\n",
              "      <td>23336255</td>\n",
              "      <td>False</td>\n",
              "      <td>0.000</td>\n",
              "    </tr>\n",
              "    <tr>\n",
              "      <th>3058</th>\n",
              "      <td>1720</td>\n",
              "      <td>23337471</td>\n",
              "      <td>Proper ARM SBCL with threads yay</td>\n",
              "      <td>ivan4th</td>\n",
              "      <td>23336255</td>\n",
              "      <td>False</td>\n",
              "      <td>0.000</td>\n",
              "    </tr>\n",
              "    <tr>\n",
              "      <th>3059</th>\n",
              "      <td>1719</td>\n",
              "      <td>23336865</td>\n",
              "      <td>Finally! Does this mean ArchLinuxARM (ALARM) w...</td>\n",
              "      <td>qalmakka</td>\n",
              "      <td>23336255</td>\n",
              "      <td>False</td>\n",
              "      <td>0.000</td>\n",
              "    </tr>\n",
              "    <tr>\n",
              "      <th>3060</th>\n",
              "      <td>1718</td>\n",
              "      <td>23338715</td>\n",
              "      <td>Is there a noticeable performance benefit with...</td>\n",
              "      <td>mgamache</td>\n",
              "      <td>23336255</td>\n",
              "      <td>False</td>\n",
              "      <td>0.000</td>\n",
              "    </tr>\n",
              "    <tr>\n",
              "      <th>3061</th>\n",
              "      <td>0</td>\n",
              "      <td>23341390</td>\n",
              "      <td>&amp;gt; Java 8 language support update: APIs you ...</td>\n",
              "      <td>pjmlp</td>\n",
              "      <td>23340887</td>\n",
              "      <td>False</td>\n",
              "      <td>0.000</td>\n",
              "    </tr>\n",
              "  </tbody>\n",
              "</table>\n",
              "<p>3062 rows × 7 columns</p>\n",
              "</div>"
            ],
            "text/plain": [
              "      Unnamed: 0  Comment_ID  ... Deleted SaltyScore\n",
              "0           1118    23334754  ...   False      0.778\n",
              "1            120    23338465  ...   False      0.731\n",
              "2           1353    23320362  ...   False      0.714\n",
              "3           1265    23335878  ...   False      0.599\n",
              "4           2595    23329336  ...   False      0.592\n",
              "...          ...         ...  ...     ...        ...\n",
              "3057        1722    23338836  ...   False      0.000\n",
              "3058        1720    23337471  ...   False      0.000\n",
              "3059        1719    23336865  ...   False      0.000\n",
              "3060        1718    23338715  ...   False      0.000\n",
              "3061           0    23341390  ...   False      0.000\n",
              "\n",
              "[3062 rows x 7 columns]"
            ]
          },
          "metadata": {
            "tags": []
          },
          "execution_count": 390
        }
      ]
    },
    {
      "cell_type": "code",
      "metadata": {
        "id": "ettkK7ujRO2B",
        "colab_type": "code",
        "colab": {}
      },
      "source": [
        "df['sentiment'] = df['Comment'].apply(analyze_sentiment_vader_lexicon)"
      ],
      "execution_count": 0,
      "outputs": []
    },
    {
      "cell_type": "code",
      "metadata": {
        "id": "fLTB-gPPQo5z",
        "colab_type": "code",
        "colab": {}
      },
      "source": [
        "counter = Counter(df['sentiment'].tolist())\n",
        "top_sent = {i[0]: idx for idx, i in enumerate(counter.most_common(3))}\n",
        "df = df[df['sentiment'].map(lambda x: x in top_sent)]"
      ],
      "execution_count": 0,
      "outputs": []
    },
    {
      "cell_type": "code",
      "metadata": {
        "id": "zq-699scSRKI",
        "colab_type": "code",
        "colab": {}
      },
      "source": [
        "comment_list = df['Comment'].tolist()\n",
        "mapped_list, word_list = filter_to_top_x(comment_list, 2500, 10)\n",
        "comment_list_o = [top_sent[i] for i in df['sentiment'].tolist()]\n",
        "comment_list = to_categorical(comment_list_o)\n",
        "\n",
        "max_comment_length = 150\n",
        "\n",
        "mapped_list = sequence.pad_sequences(mapped_list, maxlen=max_comment_length)\n",
        "train_x, test_x, train_y, test_y = train_test_split(mapped_list, comment_list, test_size=0.3)"
      ],
      "execution_count": 0,
      "outputs": []
    },
    {
      "cell_type": "code",
      "metadata": {
        "id": "Xjb5A5f-W2cX",
        "colab_type": "code",
        "colab": {}
      },
      "source": [
        "max_review_length = 150\n",
        "\n",
        "embedding_vector_length = 64\n",
        "model = Sequential()"
      ],
      "execution_count": 0,
      "outputs": []
    },
    {
      "cell_type": "code",
      "metadata": {
        "id": "c8I88A6Pmteb",
        "colab_type": "code",
        "outputId": "4750de34-d84e-4804-a1b9-49d79de8e9b5",
        "colab": {
          "base_uri": "https://localhost:8080/",
          "height": 248
        }
      },
      "source": [
        "model.add(Embedding(2500, embedding_vector_length, input_length=max_review_length))\n",
        "model.add(Conv1D(50, 5))\n",
        "model.add(Flatten())\n",
        "model.add(Dense(100, activation='relu'))\n",
        "model.add(Dense(max(comment_list_o) + 1, activation='softmax'))\n",
        "model.compile(loss='categorical_crossentropy', optimizer='adam', metrics=['accuracy'])\n",
        "model.fit(train_x, train_y, epochs=5, batch_size=64)\n",
        "\n",
        "y_score = model.predict(test_x)\n",
        "y_score = [[1 if i == max(sc) else 0 for i in sc] for sc in y_score]\n",
        "n_right = 0\n",
        "for i in range(len(y_score)):\n",
        "    if all(y_score[i][j] == test_y[i][j] for j in range(len(y_score[i]))):\n",
        "        n_right += 1\n",
        "        "
      ],
      "execution_count": 395,
      "outputs": [
        {
          "output_type": "stream",
          "text": [
            "/usr/local/lib/python3.6/dist-packages/tensorflow/python/framework/indexed_slices.py:434: UserWarning: Converting sparse IndexedSlices to a dense Tensor of unknown shape. This may consume a large amount of memory.\n",
            "  \"Converting sparse IndexedSlices to a dense Tensor of unknown shape. \"\n"
          ],
          "name": "stderr"
        },
        {
          "output_type": "stream",
          "text": [
            "Epoch 1/5\n",
            "2143/2143 [==============================] - 2s 816us/step - loss: 0.9622 - accuracy: 0.5586\n",
            "Epoch 2/5\n",
            "2143/2143 [==============================] - 2s 778us/step - loss: 0.8028 - accuracy: 0.6155\n",
            "Epoch 3/5\n",
            "2143/2143 [==============================] - 2s 773us/step - loss: 0.5234 - accuracy: 0.7933\n",
            "Epoch 4/5\n",
            "2143/2143 [==============================] - 2s 776us/step - loss: 0.2147 - accuracy: 0.9370\n",
            "Epoch 5/5\n",
            "2143/2143 [==============================] - 2s 774us/step - loss: 0.0973 - accuracy: 0.9711\n"
          ],
          "name": "stdout"
        }
      ]
    }
  ]
}